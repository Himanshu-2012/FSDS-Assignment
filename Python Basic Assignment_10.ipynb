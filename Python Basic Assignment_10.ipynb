{
 "cells": [
  {
   "cell_type": "markdown",
   "id": "b3b0fdee",
   "metadata": {},
   "source": [
    "1. How do you distinguish between shutil.copy() and shutil.copytree()?"
   ]
  },
  {
   "cell_type": "markdown",
   "id": "4fbf9d5c",
   "metadata": {},
   "source": [
    "Answer:- shutil.copy() will copy a single file\n",
    "         shutil.copytree() will copy an entire folder"
   ]
  },
  {
   "cell_type": "markdown",
   "id": "7cabbf13",
   "metadata": {},
   "source": [
    "2. What function is used to rename files?"
   ]
  },
  {
   "cell_type": "markdown",
   "id": "7dc82ba4",
   "metadata": {},
   "source": [
    "Answer:- shutil.move()"
   ]
  },
  {
   "cell_type": "markdown",
   "id": "bcb4bb17",
   "metadata": {},
   "source": [
    "3. What is the difference between the delete functions in the send2trash and shutil modules?"
   ]
  },
  {
   "cell_type": "markdown",
   "id": "175a8d08",
   "metadata": {},
   "source": [
    "Answer:- send2trash will move a file or folder to the recycle bin,\n",
    "         shutil functions will permanently delete files and folders"
   ]
  },
  {
   "cell_type": "markdown",
   "id": "22dcf966",
   "metadata": {},
   "source": [
    "4.ZipFile objects have a close() method just like File objects’ close() method. What ZipFile method is equivalent to File objects’ open() method?"
   ]
  },
  {
   "cell_type": "markdown",
   "id": "1aae6d3e",
   "metadata": {},
   "source": [
    "Answer:- zipfile.ZipFile() is equivalent to the open() function; the\n",
    "         first argument is the filename, and the second argument is the mode to\n",
    "         open the ZIP file in (read, write, or append)."
   ]
  },
  {
   "cell_type": "markdown",
   "id": "acfacc8b",
   "metadata": {},
   "source": [
    "5. Create a programme that searches a folder tree for files with a certain file extension (such as .pdf or .jpg). Copy these files from whatever location they are in to a new folder."
   ]
  },
  {
   "cell_type": "code",
   "execution_count": null,
   "id": "633514a1",
   "metadata": {},
   "outputs": [],
   "source": [
    "import os\n",
    "import shutil\n",
    "\n",
    "\n",
    "folder = input('Enter the absolute filepath of'\n",
    "               ' the directory you wish to copy from: ')\n",
    "\n",
    "extension = input(\"Enter the extension you'd like to copy: \")\n",
    "\n",
    "destination = input(\"Enter destination folder's absolute filepath: \")\n",
    "\n",
    "for folders, subfolders, filenames in os.walk(folder):\n",
    "\n",
    "        for filename in filenames:\n",
    "\n",
    "            if filename.endswith('{}'.format(extension)):\n",
    "                shutil.copy(os.path.join(folders, filename), destination)\n",
    "\n",
    "print('Selective copying has finished - all files of', extension,\n",
    "      'type have been copied from', os.path.basename(folder), 'to',\n",
    "      os.path.basename(destination))"
   ]
  },
  {
   "cell_type": "code",
   "execution_count": null,
   "id": "8f424c53",
   "metadata": {},
   "outputs": [],
   "source": []
  },
  {
   "cell_type": "code",
   "execution_count": null,
   "id": "98717b1a",
   "metadata": {},
   "outputs": [],
   "source": []
  },
  {
   "cell_type": "code",
   "execution_count": null,
   "id": "d2fa0c02",
   "metadata": {},
   "outputs": [],
   "source": []
  },
  {
   "cell_type": "code",
   "execution_count": null,
   "id": "ded2a786",
   "metadata": {},
   "outputs": [],
   "source": []
  },
  {
   "cell_type": "code",
   "execution_count": null,
   "id": "e0f9da18",
   "metadata": {},
   "outputs": [],
   "source": []
  },
  {
   "cell_type": "code",
   "execution_count": null,
   "id": "fa92a5cf",
   "metadata": {},
   "outputs": [],
   "source": []
  },
  {
   "cell_type": "code",
   "execution_count": null,
   "id": "978045c6",
   "metadata": {},
   "outputs": [],
   "source": []
  },
  {
   "cell_type": "code",
   "execution_count": null,
   "id": "e96db68f",
   "metadata": {},
   "outputs": [],
   "source": []
  },
  {
   "cell_type": "code",
   "execution_count": null,
   "id": "c1c8f036",
   "metadata": {},
   "outputs": [],
   "source": []
  }
 ],
 "metadata": {
  "kernelspec": {
   "display_name": "Python 3 (ipykernel)",
   "language": "python",
   "name": "python3"
  },
  "language_info": {
   "codemirror_mode": {
    "name": "ipython",
    "version": 3
   },
   "file_extension": ".py",
   "mimetype": "text/x-python",
   "name": "python",
   "nbconvert_exporter": "python",
   "pygments_lexer": "ipython3",
   "version": "3.9.7"
  }
 },
 "nbformat": 4,
 "nbformat_minor": 5
}
