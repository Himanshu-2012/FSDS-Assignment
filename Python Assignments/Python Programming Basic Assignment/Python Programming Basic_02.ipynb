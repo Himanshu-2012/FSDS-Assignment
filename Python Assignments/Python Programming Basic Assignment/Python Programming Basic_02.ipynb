{
 "cells": [
  {
   "cell_type": "markdown",
   "id": "e61854cf",
   "metadata": {},
   "source": [
    "Write a Python program to convert kilometers to miles?"
   ]
  },
  {
   "cell_type": "code",
   "execution_count": 4,
   "id": "372f726f",
   "metadata": {},
   "outputs": [
    {
     "name": "stdout",
     "output_type": "stream",
     "text": [
      "the 46 kilometers are equal to 28.583066\n"
     ]
    }
   ],
   "source": [
    "def kilo_to_miles(kil):\n",
    "    miles = kil*0.621371\n",
    "    print(f\"the {kil} kilometers are equal to {miles}\")\n",
    "    \n",
    "a = kilo_to_miles(46)"
   ]
  },
  {
   "cell_type": "markdown",
   "id": "7ac0ded1",
   "metadata": {},
   "source": [
    "Write a Python program to convert Celsius to Fahrenheit?\n"
   ]
  },
  {
   "cell_type": "code",
   "execution_count": 7,
   "id": "19094114",
   "metadata": {},
   "outputs": [
    {
     "name": "stdout",
     "output_type": "stream",
     "text": [
      "the 35 celsius is equal to 95.0 fahrenheit\n"
     ]
    }
   ],
   "source": [
    "def cel_to_fah(cal):\n",
    "    fahrenheit = (cal * 9/5) + 32\n",
    "    print(f\"the {cal} celsius is equal to {fahrenheit} fahrenheit\")\n",
    "    \n",
    "b = cel_to_fah(35)"
   ]
  },
  {
   "cell_type": "markdown",
   "id": "b7ae6a54",
   "metadata": {},
   "source": [
    "Write a Python program to display calendar?\n"
   ]
  },
  {
   "cell_type": "code",
   "execution_count": 8,
   "id": "c7a3bff7",
   "metadata": {},
   "outputs": [
    {
     "name": "stdout",
     "output_type": "stream",
     "text": [
      "Enter calender year: 1994\n",
      "                                  1994\n",
      "\n",
      "      January                   February                   March\n",
      "Mo Tu We Th Fr Sa Su      Mo Tu We Th Fr Sa Su      Mo Tu We Th Fr Sa Su\n",
      "                1  2          1  2  3  4  5  6          1  2  3  4  5  6\n",
      " 3  4  5  6  7  8  9       7  8  9 10 11 12 13       7  8  9 10 11 12 13\n",
      "10 11 12 13 14 15 16      14 15 16 17 18 19 20      14 15 16 17 18 19 20\n",
      "17 18 19 20 21 22 23      21 22 23 24 25 26 27      21 22 23 24 25 26 27\n",
      "24 25 26 27 28 29 30      28                        28 29 30 31\n",
      "31\n",
      "\n",
      "       April                      May                       June\n",
      "Mo Tu We Th Fr Sa Su      Mo Tu We Th Fr Sa Su      Mo Tu We Th Fr Sa Su\n",
      "             1  2  3                         1             1  2  3  4  5\n",
      " 4  5  6  7  8  9 10       2  3  4  5  6  7  8       6  7  8  9 10 11 12\n",
      "11 12 13 14 15 16 17       9 10 11 12 13 14 15      13 14 15 16 17 18 19\n",
      "18 19 20 21 22 23 24      16 17 18 19 20 21 22      20 21 22 23 24 25 26\n",
      "25 26 27 28 29 30         23 24 25 26 27 28 29      27 28 29 30\n",
      "                          30 31\n",
      "\n",
      "        July                     August                  September\n",
      "Mo Tu We Th Fr Sa Su      Mo Tu We Th Fr Sa Su      Mo Tu We Th Fr Sa Su\n",
      "             1  2  3       1  2  3  4  5  6  7                1  2  3  4\n",
      " 4  5  6  7  8  9 10       8  9 10 11 12 13 14       5  6  7  8  9 10 11\n",
      "11 12 13 14 15 16 17      15 16 17 18 19 20 21      12 13 14 15 16 17 18\n",
      "18 19 20 21 22 23 24      22 23 24 25 26 27 28      19 20 21 22 23 24 25\n",
      "25 26 27 28 29 30 31      29 30 31                  26 27 28 29 30\n",
      "\n",
      "      October                   November                  December\n",
      "Mo Tu We Th Fr Sa Su      Mo Tu We Th Fr Sa Su      Mo Tu We Th Fr Sa Su\n",
      "                1  2          1  2  3  4  5  6                1  2  3  4\n",
      " 3  4  5  6  7  8  9       7  8  9 10 11 12 13       5  6  7  8  9 10 11\n",
      "10 11 12 13 14 15 16      14 15 16 17 18 19 20      12 13 14 15 16 17 18\n",
      "17 18 19 20 21 22 23      21 22 23 24 25 26 27      19 20 21 22 23 24 25\n",
      "24 25 26 27 28 29 30      28 29 30                  26 27 28 29 30 31\n",
      "31\n",
      "\n"
     ]
    }
   ],
   "source": [
    "import calendar\n",
    "\n",
    "def showCalender():\n",
    "    year = int(input(\"Enter calender year: \"))\n",
    "    print(calendar.calendar(year))\n",
    "    \n",
    "showCalender()"
   ]
  },
  {
   "cell_type": "markdown",
   "id": "1a902670",
   "metadata": {},
   "source": [
    "Write a Python program to solve quadratic equation?\n"
   ]
  },
  {
   "cell_type": "code",
   "execution_count": 9,
   "id": "bc971456",
   "metadata": {},
   "outputs": [
    {
     "name": "stdout",
     "output_type": "stream",
     "text": [
      "Enter num_1: 3\n",
      "Enter num_2: 4\n",
      "Enter num_3: 45\n",
      "Quadratic Equation is: 3x^2+4x+45=0\n",
      "Two possible values of our quadratic equation are (-0.6666666666666664+3.815174380753199j) and (-0.666666666666667-3.815174380753199j)\n"
     ]
    }
   ],
   "source": [
    "a = int(input(\"Enter num_1: \"))\n",
    "b = int(input(\"Enter num_2: \"))\n",
    "c = int(input(\"Enter num_3: \"))\n",
    "\n",
    "print(\"Quadratic Equation is: {}x^2+{}x+{}=0\".format(a,b,c))\n",
    "\n",
    "if a==0:\n",
    "    print(\"a should not be equal to Zero\")\n",
    "else:\n",
    "    r = b**2 - 4*a*c\n",
    "    x1 = (((-b) + r**0.5)/(2*a))\n",
    "    x2 = (((-b) - r**0.5)/(2*a))\n",
    "    print(\"Two possible values of our quadratic equation are {} and {}\".format(x1,x2))"
   ]
  },
  {
   "cell_type": "markdown",
   "id": "2b671141",
   "metadata": {},
   "source": [
    "Write a Python program to swap two variables without temp variable?\n"
   ]
  },
  {
   "cell_type": "code",
   "execution_count": 10,
   "id": "8135b0b6",
   "metadata": {},
   "outputs": [
    {
     "name": "stdout",
     "output_type": "stream",
     "text": [
      "Enter variable_1: 3\n",
      "Enter variable_2: 4\n",
      "before swapping a = 3.0 and b = 4.0\n",
      "after swapping a = 4.0 and b = 3.0\n"
     ]
    }
   ],
   "source": [
    "a = float(input(\"Enter variable_1: \"))\n",
    "b = float(input(\"Enter variable_2: \"))\n",
    "\n",
    "print('before swapping a = {} and b = {}'.format(a,b))\n",
    "\n",
    "a = a+b\n",
    "b = a-b\n",
    "a = a-b\n",
    "\n",
    "print('after swapping a = {} and b = {}'.format(a,b))"
   ]
  },
  {
   "cell_type": "code",
   "execution_count": null,
   "id": "506b774a",
   "metadata": {},
   "outputs": [],
   "source": []
  },
  {
   "cell_type": "code",
   "execution_count": null,
   "id": "e96faada",
   "metadata": {},
   "outputs": [],
   "source": []
  }
 ],
 "metadata": {
  "kernelspec": {
   "display_name": "Python 3 (ipykernel)",
   "language": "python",
   "name": "python3"
  },
  "language_info": {
   "codemirror_mode": {
    "name": "ipython",
    "version": 3
   },
   "file_extension": ".py",
   "mimetype": "text/x-python",
   "name": "python",
   "nbconvert_exporter": "python",
   "pygments_lexer": "ipython3",
   "version": "3.9.7"
  }
 },
 "nbformat": 4,
 "nbformat_minor": 5
}
