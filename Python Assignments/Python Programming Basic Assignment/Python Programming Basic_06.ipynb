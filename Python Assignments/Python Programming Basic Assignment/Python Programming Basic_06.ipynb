{
 "cells": [
  {
   "cell_type": "markdown",
   "id": "bc42c8a8",
   "metadata": {},
   "source": [
    "Write a Python Program to Display Fibonacci Sequence Using Recursion\n"
   ]
  },
  {
   "cell_type": "code",
   "execution_count": 1,
   "id": "d4393e4c",
   "metadata": {},
   "outputs": [
    {
     "name": "stdout",
     "output_type": "stream",
     "text": [
      "Required length of the series: 20\n",
      "0\n",
      "1\n",
      "1\n",
      "2\n",
      "3\n",
      "5\n",
      "8\n",
      "13\n",
      "21\n",
      "34\n",
      "55\n",
      "89\n",
      "144\n",
      "233\n",
      "377\n",
      "610\n",
      "987\n",
      "1597\n",
      "2584\n",
      "4181\n",
      "None\n"
     ]
    }
   ],
   "source": [
    "def fibonacci(a,b,n):\n",
    "    if n==0:\n",
    "        return\n",
    "    result = a+b\n",
    "    print(result)\n",
    "    fibonacci(b, result, n-1 )\n",
    "\n",
    "n1 = 0\n",
    "n2 = 1\n",
    "n = int(input(\"Required length of the series: \"))\n",
    "print(n1)\n",
    "print(n2)\n",
    "\n",
    "print(fibonacci(n1,n2,n-2)) # n-2 because intially two numbers are already taken i.e. n1 and n2"
   ]
  },
  {
   "cell_type": "markdown",
   "id": "4ca886f3",
   "metadata": {},
   "source": [
    "Write a Python Program to Find Factorial of Number Using Recursion?\n"
   ]
  },
  {
   "cell_type": "code",
   "execution_count": 2,
   "id": "80d8cf14",
   "metadata": {},
   "outputs": [
    {
     "data": {
      "text/plain": [
       "120"
      ]
     },
     "execution_count": 2,
     "metadata": {},
     "output_type": "execute_result"
    }
   ],
   "source": [
    "def fact(n):\n",
    "    if n==0:\n",
    "        return 1\n",
    "    return n*fact(n-1)\n",
    "\n",
    "fact(5)\n"
   ]
  },
  {
   "cell_type": "markdown",
   "id": "b93f9bee",
   "metadata": {},
   "source": [
    "Write a Python Program to calculate your Body Mass Index?\n"
   ]
  },
  {
   "cell_type": "code",
   "execution_count": 4,
   "id": "15a3a634",
   "metadata": {},
   "outputs": [
    {
     "name": "stdout",
     "output_type": "stream",
     "text": [
      "Enter weight in kg: 80\n",
      "80.0 kg\n",
      "Enter height in m: 5\n",
      "5.0 m\n",
      "Your BMI is:  3.2\n",
      "Underweight\n"
     ]
    }
   ],
   "source": [
    "def bmi(wt,ht):\n",
    "    result = wt/ht**2\n",
    "    print(\"Your BMI is: \",result)\n",
    "    if result>= 18.5 and result<=24.9:\n",
    "        print(\"Healthy Range\")\n",
    "    elif result<18.5:\n",
    "        print(\"Underweight\")\n",
    "    else:\n",
    "        print(\"overweight\")\n",
    "    \n",
    "weight = float(input(\"Enter weight in kg: \"))\n",
    "print(weight,\"kg\")\n",
    "height = float(input(\"Enter height in m: \"))\n",
    "print(height,\"m\")\n",
    "\n",
    "bmi(weight,height)\n"
   ]
  },
  {
   "cell_type": "markdown",
   "id": "1732e6f6",
   "metadata": {},
   "source": [
    "Write a Python Program to calculate the natural logarithm of any number?\n"
   ]
  },
  {
   "cell_type": "code",
   "execution_count": 5,
   "id": "fc692f18",
   "metadata": {},
   "outputs": [
    {
     "name": "stdout",
     "output_type": "stream",
     "text": [
      "Enter any number: 45\n",
      "3.8066624897703196\n"
     ]
    }
   ],
   "source": [
    "import math\n",
    "n = float(input(\"Enter any number: \"))\n",
    "print(math.log(n))"
   ]
  },
  {
   "cell_type": "markdown",
   "id": "4e1cdfd2",
   "metadata": {},
   "source": [
    "Write a Python Program for cube sum of first n natural numbers?"
   ]
  },
  {
   "cell_type": "code",
   "execution_count": 6,
   "id": "d3270b49",
   "metadata": {},
   "outputs": [
    {
     "name": "stdout",
     "output_type": "stream",
     "text": [
      "225\n"
     ]
    }
   ],
   "source": [
    "def cube_sum(n):\n",
    "    result = 0\n",
    "    for i in range(1,n+1):\n",
    "        result = result+(i*i*i)\n",
    "    return result\n",
    "\n",
    "\n",
    "print(cube_sum(5))"
   ]
  },
  {
   "cell_type": "code",
   "execution_count": null,
   "id": "6ed1a5af",
   "metadata": {},
   "outputs": [],
   "source": []
  }
 ],
 "metadata": {
  "kernelspec": {
   "display_name": "Python 3 (ipykernel)",
   "language": "python",
   "name": "python3"
  },
  "language_info": {
   "codemirror_mode": {
    "name": "ipython",
    "version": 3
   },
   "file_extension": ".py",
   "mimetype": "text/x-python",
   "name": "python",
   "nbconvert_exporter": "python",
   "pygments_lexer": "ipython3",
   "version": "3.9.7"
  }
 },
 "nbformat": 4,
 "nbformat_minor": 5
}
