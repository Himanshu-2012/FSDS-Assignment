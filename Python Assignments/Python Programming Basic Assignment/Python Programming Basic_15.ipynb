{
 "cells": [
  {
   "cell_type": "markdown",
   "id": "d73835ac",
   "metadata": {},
   "source": [
    "### Question 1: Please write a program using generator to print the numbers which can be divisible by 5 and 7 between 0 and n in comma separated form while n is input by console.\n",
    "    Example:\n",
    "    If the following n is given as input to the program:\n",
    "    100\n",
    "    Then, the output of the program should be:\n",
    "    0,35,70"
   ]
  },
  {
   "cell_type": "code",
   "execution_count": 1,
   "id": "934c76a2",
   "metadata": {},
   "outputs": [
    {
     "name": "stdout",
     "output_type": "stream",
     "text": [
      "0,35,70,"
     ]
    }
   ],
   "source": [
    "def generator(n):\n",
    "    for i in range(n+1):\n",
    "        if i%5==0 and i%7==0:\n",
    "            yield i\n",
    "for j in generator(100):\n",
    "    print(j,end=',')"
   ]
  },
  {
   "cell_type": "markdown",
   "id": "8a18fbab",
   "metadata": {},
   "source": [
    "### Question 2: Please write a program using generator to print the even numbers between 0 and n in comma separated form while n is input by console.\n",
    "    Example:\n",
    "    If the following n is given as input to the program:\n",
    "    10\n",
    "    Then, the output of the program should be:\n",
    "    0,2,4,6,8,10"
   ]
  },
  {
   "cell_type": "code",
   "execution_count": 2,
   "id": "b73b3714",
   "metadata": {},
   "outputs": [
    {
     "name": "stdout",
     "output_type": "stream",
     "text": [
      "0,2,4,6,8,10,"
     ]
    }
   ],
   "source": [
    "def generator(n):\n",
    "    for i in range(n+1):\n",
    "        if i%2==0:\n",
    "            yield i\n",
    "for j in generator(10):\n",
    "    print(j,end =\",\")\n",
    "    "
   ]
  },
  {
   "cell_type": "markdown",
   "id": "0d008dd9",
   "metadata": {},
   "source": [
    "### Question 3: The Fibonacci Sequence is computed based on the following formula:\n",
    "    f(n)=0 if n=0\n",
    "    f(n)=1 if n=1\n",
    "    f(n)=f(n-1)+f(n-2) if n>1\n",
    "    Please write a program using list comprehension to print the Fibonacci Sequence in comma\n",
    "    separated form with a given n input by console."
   ]
  },
  {
   "cell_type": "code",
   "execution_count": 3,
   "id": "4f9992c2",
   "metadata": {},
   "outputs": [
    {
     "name": "stdout",
     "output_type": "stream",
     "text": [
      "Enter length n: 5\n",
      "0,1,1,2,3\n"
     ]
    }
   ],
   "source": [
    "def fib(n):\n",
    "    if n==0:\n",
    "        return 0\n",
    "    elif n==1:\n",
    "        return 1\n",
    "    else:\n",
    "        return fib(n-1) + fib(n-2)\n",
    "    \n",
    "n = int(input(\"Enter length n: \"))\n",
    "sequence = [str(fib(i)) for i in range(n)]\n",
    "print(\",\".join(sequence))\n"
   ]
  },
  {
   "cell_type": "markdown",
   "id": "0cca581a",
   "metadata": {},
   "source": [
    "### Question 4: Assuming that we have some email addresses in the &quot;username@companyname.com&quot; format, please write program to print the user name of a given email address. Both user names and company names are composed of letters only.\n",
    "    Example:\n",
    "    If the following email address is given as input to the program:\n",
    "    john@google.com\n",
    "    Then, the output of the program should be:\n",
    "    john"
   ]
  },
  {
   "cell_type": "code",
   "execution_count": 4,
   "id": "43644e00",
   "metadata": {},
   "outputs": [],
   "source": [
    "def username(email):\n",
    "    print(email.split(\"@\")[0])"
   ]
  },
  {
   "cell_type": "code",
   "execution_count": 5,
   "id": "8d2ab533",
   "metadata": {},
   "outputs": [
    {
     "name": "stdout",
     "output_type": "stream",
     "text": [
      "john\n"
     ]
    }
   ],
   "source": [
    "username(\"john@google.com\")"
   ]
  },
  {
   "cell_type": "markdown",
   "id": "5e2e006a",
   "metadata": {},
   "source": [
    "### Question 5: Define a class named Shape and its subclass Square. The Square class has an init function which takes a length as argument. Both classes have a area function which can print the area of the shape where Shape&#39;s area is 0 by default."
   ]
  },
  {
   "cell_type": "code",
   "execution_count": 6,
   "id": "69d87656",
   "metadata": {},
   "outputs": [],
   "source": [
    "class shape:\n",
    "    def __init__(self):\n",
    "        pass\n",
    "    def area(self):\n",
    "        return 0\n",
    "class square(shape):\n",
    "    def __init__(self,length = 0):\n",
    "        shape.__init__(self)\n",
    "        self.length = length\n",
    "    \n",
    "    def area(self):\n",
    "        return self.length*self.length\n",
    "    "
   ]
  },
  {
   "cell_type": "code",
   "execution_count": 7,
   "id": "aabd0707",
   "metadata": {},
   "outputs": [
    {
     "data": {
      "text/plain": [
       "100"
      ]
     },
     "execution_count": 7,
     "metadata": {},
     "output_type": "execute_result"
    }
   ],
   "source": [
    "a = square(10)\n",
    "a.area()"
   ]
  },
  {
   "cell_type": "code",
   "execution_count": 8,
   "id": "c35bbb82",
   "metadata": {},
   "outputs": [
    {
     "data": {
      "text/plain": [
       "0"
      ]
     },
     "execution_count": 8,
     "metadata": {},
     "output_type": "execute_result"
    }
   ],
   "source": [
    "square().area()"
   ]
  }
 ],
 "metadata": {
  "kernelspec": {
   "display_name": "Python 3 (ipykernel)",
   "language": "python",
   "name": "python3"
  },
  "language_info": {
   "codemirror_mode": {
    "name": "ipython",
    "version": 3
   },
   "file_extension": ".py",
   "mimetype": "text/x-python",
   "name": "python",
   "nbconvert_exporter": "python",
   "pygments_lexer": "ipython3",
   "version": "3.9.7"
  }
 },
 "nbformat": 4,
 "nbformat_minor": 5
}
