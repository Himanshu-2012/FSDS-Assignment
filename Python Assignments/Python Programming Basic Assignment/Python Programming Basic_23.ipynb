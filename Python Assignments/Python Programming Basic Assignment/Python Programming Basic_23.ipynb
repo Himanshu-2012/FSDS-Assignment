{
 "cells": [
  {
   "cell_type": "markdown",
   "id": "6af6590b",
   "metadata": {},
   "source": [
    "\n",
    "#### Create a function that takes a number as an argument and returns True or False depending\n",
    "#### on whether the number is symmetrical or not. A number is symmetrical when it is the same as\n",
    "#### its reverse.\n",
    "#### Examples\n",
    "#### is_symmetrical(7227) ➞ True\n",
    "#### is_symmetrical(12567) ➞ False\n",
    "#### is_symmetrical(44444444) ➞ True\n",
    "#### is_symmetrical(9939) ➞ False\n",
    "#### is_symmetrical(1112111) ➞ True"
   ]
  },
  {
   "cell_type": "code",
   "execution_count": 1,
   "id": "5044cb3b",
   "metadata": {},
   "outputs": [],
   "source": [
    "def is_symmetrical(n):\n",
    "    rev = str(n)[::-1]\n",
    "    #print(rev)\n",
    "    if rev == str(n):\n",
    "        return True\n",
    "    return False\n",
    "        "
   ]
  },
  {
   "cell_type": "code",
   "execution_count": 2,
   "id": "373ed4f5",
   "metadata": {},
   "outputs": [
    {
     "data": {
      "text/plain": [
       "True"
      ]
     },
     "execution_count": 2,
     "metadata": {},
     "output_type": "execute_result"
    }
   ],
   "source": [
    "is_symmetrical(7227)"
   ]
  },
  {
   "cell_type": "code",
   "execution_count": 3,
   "id": "0590253c",
   "metadata": {},
   "outputs": [
    {
     "data": {
      "text/plain": [
       "False"
      ]
     },
     "execution_count": 3,
     "metadata": {},
     "output_type": "execute_result"
    }
   ],
   "source": [
    "is_symmetrical(12567)"
   ]
  },
  {
   "cell_type": "code",
   "execution_count": 4,
   "id": "222a7dea",
   "metadata": {},
   "outputs": [
    {
     "data": {
      "text/plain": [
       "True"
      ]
     },
     "execution_count": 4,
     "metadata": {},
     "output_type": "execute_result"
    }
   ],
   "source": [
    "is_symmetrical(44444444)"
   ]
  },
  {
   "cell_type": "code",
   "execution_count": 5,
   "id": "fd06126c",
   "metadata": {},
   "outputs": [
    {
     "data": {
      "text/plain": [
       "False"
      ]
     },
     "execution_count": 5,
     "metadata": {},
     "output_type": "execute_result"
    }
   ],
   "source": [
    "is_symmetrical(9939)"
   ]
  },
  {
   "cell_type": "code",
   "execution_count": 6,
   "id": "90a831a1",
   "metadata": {},
   "outputs": [
    {
     "data": {
      "text/plain": [
       "True"
      ]
     },
     "execution_count": 6,
     "metadata": {},
     "output_type": "execute_result"
    }
   ],
   "source": [
    "is_symmetrical(1112111)"
   ]
  },
  {
   "cell_type": "markdown",
   "id": "322b29f2",
   "metadata": {},
   "source": [
    "\n",
    "#### Given a string of numbers separated by a comma and space, return the product of the\n",
    "#### numbers.\n",
    "#### Examples\n",
    "#### multiply_nums(&quot;2, 3&quot;) ➞ 6\n",
    "#### multiply_nums(&quot;1, 2, 3, 4&quot;) ➞ 24\n",
    "#### multiply_nums(&quot;54, 75, 453, 0&quot;) ➞ 0\n",
    "#### multiply_nums(&quot;10, -2&quot;) ➞ -20"
   ]
  },
  {
   "cell_type": "code",
   "execution_count": 7,
   "id": "bd4a710a",
   "metadata": {},
   "outputs": [],
   "source": [
    "def multiply_nums(s):\n",
    "    s = s.replace(' ', \"\")\n",
    "    s = s.split(',')\n",
    "    sum = 1\n",
    "    for i in s:\n",
    "        sum = sum * int(i)\n",
    "    return sum"
   ]
  },
  {
   "cell_type": "code",
   "execution_count": 8,
   "id": "dda410f0",
   "metadata": {},
   "outputs": [
    {
     "data": {
      "text/plain": [
       "6"
      ]
     },
     "execution_count": 8,
     "metadata": {},
     "output_type": "execute_result"
    }
   ],
   "source": [
    "multiply_nums(\"2, 3\")"
   ]
  },
  {
   "cell_type": "code",
   "execution_count": 9,
   "id": "b502ca7d",
   "metadata": {},
   "outputs": [
    {
     "data": {
      "text/plain": [
       "24"
      ]
     },
     "execution_count": 9,
     "metadata": {},
     "output_type": "execute_result"
    }
   ],
   "source": [
    "multiply_nums(\"1, 2, 3, 4\")"
   ]
  },
  {
   "cell_type": "code",
   "execution_count": 10,
   "id": "1001aecd",
   "metadata": {},
   "outputs": [
    {
     "data": {
      "text/plain": [
       "0"
      ]
     },
     "execution_count": 10,
     "metadata": {},
     "output_type": "execute_result"
    }
   ],
   "source": [
    "multiply_nums(\"54, 75, 453, 0\")"
   ]
  },
  {
   "cell_type": "code",
   "execution_count": 11,
   "id": "e5770aa8",
   "metadata": {},
   "outputs": [
    {
     "data": {
      "text/plain": [
       "-20"
      ]
     },
     "execution_count": 11,
     "metadata": {},
     "output_type": "execute_result"
    }
   ],
   "source": [
    "multiply_nums(\"10, -2\")"
   ]
  },
  {
   "cell_type": "markdown",
   "id": "3424845f",
   "metadata": {},
   "source": [
    "\n",
    "#### Create a function that squares every digit of a number.\n",
    "#### Examples\n",
    "#### square_digits(9119) ➞ 811181\n",
    "#### square_digits(2483) ➞ 416649\n",
    "#### square_digits(3212) ➞ 9414\n",
    "#### Notes\n",
    "#### The function receives an integer and must return an integer."
   ]
  },
  {
   "cell_type": "code",
   "execution_count": 12,
   "id": "09349edb",
   "metadata": {},
   "outputs": [],
   "source": [
    "def square_digits(n):\n",
    "    sq = ''.join(str(int(i)**2) for i in str(n))\n",
    "    return int(sq)\n",
    "    \n",
    "    "
   ]
  },
  {
   "cell_type": "code",
   "execution_count": 13,
   "id": "3d011c60",
   "metadata": {},
   "outputs": [
    {
     "data": {
      "text/plain": [
       "811181"
      ]
     },
     "execution_count": 13,
     "metadata": {},
     "output_type": "execute_result"
    }
   ],
   "source": [
    "square_digits(9119)"
   ]
  },
  {
   "cell_type": "code",
   "execution_count": 14,
   "id": "67100b07",
   "metadata": {},
   "outputs": [
    {
     "data": {
      "text/plain": [
       "416649"
      ]
     },
     "execution_count": 14,
     "metadata": {},
     "output_type": "execute_result"
    }
   ],
   "source": [
    "square_digits(2483)"
   ]
  },
  {
   "cell_type": "code",
   "execution_count": 15,
   "id": "26e873c2",
   "metadata": {},
   "outputs": [
    {
     "data": {
      "text/plain": [
       "9414"
      ]
     },
     "execution_count": 15,
     "metadata": {},
     "output_type": "execute_result"
    }
   ],
   "source": [
    "square_digits(3212)"
   ]
  },
  {
   "cell_type": "markdown",
   "id": "fde828fd",
   "metadata": {},
   "source": [
    "\n",
    "#### Create a function that sorts a list and removes all duplicate items from it.\n",
    "#### Examples\n",
    "#### setify([1, 3, 3, 5, 5]) ➞ [1, 3, 5]\n",
    "#### setify([4, 4, 4, 4]) ➞ [4]\n",
    "#### setify([5, 7, 8, 9, 10, 15]) ➞ [5, 7, 8, 9, 10, 15]\n",
    "#### setify([3, 3, 3, 2, 1]) ➞ [1, 2, 3]"
   ]
  },
  {
   "cell_type": "code",
   "execution_count": 16,
   "id": "7246a90b",
   "metadata": {},
   "outputs": [],
   "source": [
    "def setify(l):\n",
    "    m = []\n",
    "    l.sort()\n",
    "    l = set(l)\n",
    "    for i in l:\n",
    "        m.append(i)\n",
    "    return m\n",
    "        "
   ]
  },
  {
   "cell_type": "code",
   "execution_count": 17,
   "id": "eafd5ff6",
   "metadata": {},
   "outputs": [
    {
     "data": {
      "text/plain": [
       "[1, 3, 5]"
      ]
     },
     "execution_count": 17,
     "metadata": {},
     "output_type": "execute_result"
    }
   ],
   "source": [
    "setify([1, 3, 3, 5, 5])"
   ]
  },
  {
   "cell_type": "code",
   "execution_count": 18,
   "id": "fe85bb17",
   "metadata": {},
   "outputs": [
    {
     "data": {
      "text/plain": [
       "[4]"
      ]
     },
     "execution_count": 18,
     "metadata": {},
     "output_type": "execute_result"
    }
   ],
   "source": [
    "setify([4, 4, 4, 4])"
   ]
  },
  {
   "cell_type": "code",
   "execution_count": 19,
   "id": "1808890d",
   "metadata": {},
   "outputs": [
    {
     "data": {
      "text/plain": [
       "[5, 7, 8, 9, 10, 15]"
      ]
     },
     "execution_count": 19,
     "metadata": {},
     "output_type": "execute_result"
    }
   ],
   "source": [
    "setify([5, 7, 8, 9, 10, 15])"
   ]
  },
  {
   "cell_type": "code",
   "execution_count": 20,
   "id": "8c8a6a20",
   "metadata": {},
   "outputs": [
    {
     "data": {
      "text/plain": [
       "[1, 2, 3]"
      ]
     },
     "execution_count": 20,
     "metadata": {},
     "output_type": "execute_result"
    }
   ],
   "source": [
    "setify([3, 3, 3, 2, 1])"
   ]
  },
  {
   "cell_type": "markdown",
   "id": "0eceba95",
   "metadata": {},
   "source": [
    "\n",
    "#### Create a function that returns the mean of all digits.\n",
    "#### Examples\n",
    "#### mean(42) ➞ 3\n",
    "#### mean(12345) ➞ 3\n",
    "#### mean(666) ➞ 6\n",
    "#### Notes\n",
    "####  The mean of all digits is the sum of digits / how many digits there are (e.g. mean of digits in\n",
    "#### 512 is (5+1+2)/3(number of digits) = 8/3=2).\n",
    "####  The mean will always be an integer."
   ]
  },
  {
   "cell_type": "code",
   "execution_count": 21,
   "id": "b723bbe1",
   "metadata": {},
   "outputs": [],
   "source": [
    "def mean(n):\n",
    "    sum = 0\n",
    "    lenth = len(str(n))\n",
    "    for i in str(n):\n",
    "        sum = sum+ int(i)\n",
    "    return int(sum/lenth)\n",
    "        \n",
    "    "
   ]
  },
  {
   "cell_type": "code",
   "execution_count": 22,
   "id": "ea5e07d7",
   "metadata": {},
   "outputs": [
    {
     "data": {
      "text/plain": [
       "3"
      ]
     },
     "execution_count": 22,
     "metadata": {},
     "output_type": "execute_result"
    }
   ],
   "source": [
    "mean(42)"
   ]
  },
  {
   "cell_type": "code",
   "execution_count": 23,
   "id": "b8723b75",
   "metadata": {},
   "outputs": [
    {
     "data": {
      "text/plain": [
       "3"
      ]
     },
     "execution_count": 23,
     "metadata": {},
     "output_type": "execute_result"
    }
   ],
   "source": [
    "mean(12345)"
   ]
  },
  {
   "cell_type": "code",
   "execution_count": 24,
   "id": "06cff595",
   "metadata": {},
   "outputs": [
    {
     "data": {
      "text/plain": [
       "6"
      ]
     },
     "execution_count": 24,
     "metadata": {},
     "output_type": "execute_result"
    }
   ],
   "source": [
    "mean(666)"
   ]
  }
 ],
 "metadata": {
  "kernelspec": {
   "display_name": "Python 3 (ipykernel)",
   "language": "python",
   "name": "python3"
  },
  "language_info": {
   "codemirror_mode": {
    "name": "ipython",
    "version": 3
   },
   "file_extension": ".py",
   "mimetype": "text/x-python",
   "name": "python",
   "nbconvert_exporter": "python",
   "pygments_lexer": "ipython3",
   "version": "3.9.7"
  }
 },
 "nbformat": 4,
 "nbformat_minor": 5
}
