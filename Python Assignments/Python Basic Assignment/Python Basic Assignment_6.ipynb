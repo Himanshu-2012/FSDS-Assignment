{
 "cells": [
  {
   "cell_type": "markdown",
   "id": "39ffa6ca",
   "metadata": {},
   "source": [
    "1. What are escape characters, and how do you use them?\n"
   ]
  },
  {
   "cell_type": "markdown",
   "id": "d5119e1c",
   "metadata": {},
   "source": [
    "Answer:- escape character is a backslash \\ followed by the character you want to insert\n",
    "         if you want to use double quote inside a string that is surrounded by double quotes then we can use escape character\n",
    "         (eg-: am = \"We are the \\\"Heros\\\" from india.\") "
   ]
  },
  {
   "cell_type": "markdown",
   "id": "ce3a417d",
   "metadata": {},
   "source": [
    "2. What do the escape characters n and t stand for?\n"
   ]
  },
  {
   "cell_type": "markdown",
   "id": "dc631d55",
   "metadata": {},
   "source": [
    "Answer:- n ------> it is used to create new line, it is used like (\\n).\n",
    "         t ------> it is used for creating extra space between words or lines, (\\t)."
   ]
  },
  {
   "cell_type": "markdown",
   "id": "fa597aa3",
   "metadata": {},
   "source": [
    "3. What is the way to include backslash characters in a string?\n"
   ]
  },
  {
   "cell_type": "markdown",
   "id": "93623a0f",
   "metadata": {},
   "source": [
    "Answer:- we have to use \\\\ for backslash"
   ]
  },
  {
   "cell_type": "markdown",
   "id": "02d8227e",
   "metadata": {},
   "source": [
    "4. The string \"Howl's Moving Castle\" is a correct value. Why isn't the single quote character in the word Howl's not escaped a problem?\n"
   ]
  },
  {
   "cell_type": "markdown",
   "id": "efa752c4",
   "metadata": {},
   "source": [
    "Answer:- we can use single quote(') inside the double quote (\") that is why it is correct."
   ]
  },
  {
   "cell_type": "markdown",
   "id": "4deb6392",
   "metadata": {},
   "source": [
    "5. How do you write a string of newlines if you don't want to use the n character?\n"
   ]
  },
  {
   "cell_type": "markdown",
   "id": "eaf78202",
   "metadata": {},
   "source": [
    "Answer:- we can use multiline string(''' the multiline string start with triple quote and also end with '''.)"
   ]
  },
  {
   "cell_type": "markdown",
   "id": "f43912ec",
   "metadata": {},
   "source": [
    "6. What are the values of the given expressions?\n",
    "'Hello, world!'[1]\n",
    "'Hello, world!'[0:5]\n",
    "'Hello, world!'[:5]\n",
    "'Hello, world!'[3:]\n"
   ]
  },
  {
   "cell_type": "markdown",
   "id": "c9e4fbe9",
   "metadata": {},
   "source": [
    "Answer:-    'Hello, world!'[1]    ------> \"e\"\n",
    "            'Hello, world!'[0:5]  ------> \"Hello\"\n",
    "            'Hello, world!'[:5]   ------> \"Hello\"\n",
    "            'Hello, world!'[3:]   ------> \"lo, world!\""
   ]
  },
  {
   "cell_type": "markdown",
   "id": "1680489b",
   "metadata": {},
   "source": [
    "7. What are the values of the following expressions?\n",
    "'Hello'.upper()\n",
    "'Hello'.upper().isupper()\n",
    "'Hello'.upper().lower()\n"
   ]
  },
  {
   "cell_type": "markdown",
   "id": "4011bdec",
   "metadata": {},
   "source": [
    "Answer:- \n",
    "         'Hello'.upper()           ------->  \"HELLO\"\n",
    "         'Hello'.upper().isupper() ------->   True\n",
    "         'Hello'.upper().lower()   ------->  \"hello\""
   ]
  },
  {
   "cell_type": "markdown",
   "id": "1e3f9705",
   "metadata": {},
   "source": [
    "8. What are the values of the following expressions?\n",
    "'Remember, remember, the fifth of July.'.split()\n",
    "'-'.join('There can only one.'.split())\n"
   ]
  },
  {
   "cell_type": "markdown",
   "id": "365413c4",
   "metadata": {},
   "source": [
    "Answer:- ['Remember,', 'remember,', 'the', 'fifth', 'of', 'November.']\n",
    "\n",
    "              'There-can-be-only-one."
   ]
  },
  {
   "cell_type": "markdown",
   "id": "d02528a6",
   "metadata": {},
   "source": [
    "9. What are the methods for right-justifying, left-justifying, and centering a string?\n"
   ]
  },
  {
   "cell_type": "markdown",
   "id": "801cedfa",
   "metadata": {},
   "source": [
    "Answer:- we can use rjust(), ljust(), center() string methods."
   ]
  },
  {
   "cell_type": "markdown",
   "id": "819fd645",
   "metadata": {},
   "source": [
    "10. What is the best way to remove whitespace characters from the start or end?\n"
   ]
  },
  {
   "cell_type": "markdown",
   "id": "01b3ed39",
   "metadata": {},
   "source": [
    "Answer:- we can use lstrip() and rstrip() methods remove whitespace"
   ]
  }
 ],
 "metadata": {
  "kernelspec": {
   "display_name": "Python 3 (ipykernel)",
   "language": "python",
   "name": "python3"
  },
  "language_info": {
   "codemirror_mode": {
    "name": "ipython",
    "version": 3
   },
   "file_extension": ".py",
   "mimetype": "text/x-python",
   "name": "python",
   "nbconvert_exporter": "python",
   "pygments_lexer": "ipython3",
   "version": "3.9.7"
  }
 },
 "nbformat": 4,
 "nbformat_minor": 5
}
