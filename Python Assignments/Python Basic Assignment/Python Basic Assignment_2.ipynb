{
 "cells": [
  {
   "cell_type": "markdown",
   "id": "350ca3d1",
   "metadata": {},
   "source": [
    "1.What are the two values of the Boolean data type? How do you write them?\n"
   ]
  },
  {
   "cell_type": "markdown",
   "id": "54b5c30a",
   "metadata": {},
   "source": [
    "Answer:- The two values of boolean is True and False\n",
    "         we will write using capital T and F, with the rest of the word in lowercase."
   ]
  },
  {
   "cell_type": "markdown",
   "id": "746275c4",
   "metadata": {},
   "source": [
    "2. What are the three different types of Boolean operators?\n"
   ]
  },
  {
   "cell_type": "markdown",
   "id": "56a3e57f",
   "metadata": {},
   "source": [
    "Answer:- The three different type of boolean operators \n",
    "         1 ----> and    (both condition need to be true)\n",
    "         2 ----> or     (one condituon need to be true)\n",
    "         3 ----> not    (true ony if false)"
   ]
  },
  {
   "cell_type": "markdown",
   "id": "c9eca2b7",
   "metadata": {},
   "source": [
    "3. Make a list of each Boolean operator's truth tables (i.e. every possible combination of Boolean values for the operator and what it evaluate )."
   ]
  },
  {
   "cell_type": "markdown",
   "id": "3692b129",
   "metadata": {},
   "source": [
    "Answer:-    True and True -----> True.\n",
    "            True and False -----> False.\n",
    "            False and True -----> False.\n",
    "            False and False -----> False.\n",
    "            True or True -----> True.\n",
    "            True or False -----> True.\n",
    "            False or True -----> True.\n",
    "            False or False -----> False.\n",
    "            not True -----> False.\n",
    "            not False -----> True."
   ]
  },
  {
   "cell_type": "markdown",
   "id": "ce970e4b",
   "metadata": {},
   "source": [
    "4. What are the values of the following expressions?\n"
   ]
  },
  {
   "cell_type": "markdown",
   "id": "0b929d05",
   "metadata": {},
   "source": [
    "(5 > 4) and (3 == 5) -------> False\n",
    "not (5 > 4)          -------> False\n",
    "(5 > 4) or (3 == 5)  -------> True\n",
    "not ((5 > 4) or (3 == 5))  -------> False\n",
    "(True and True) and (True == False)  -------> False\n",
    "(not False) or (not True)            -------> True"
   ]
  },
  {
   "cell_type": "markdown",
   "id": "ed2e63e2",
   "metadata": {},
   "source": [
    "5. What are the six comparison operators?"
   ]
  },
  {
   "cell_type": "markdown",
   "id": "e26a16c5",
   "metadata": {},
   "source": [
    "Answer:-  == -------> equal \n",
    "          != -------> not equal\n",
    "          >  -------> greater than\n",
    "          <  -------> less than\n",
    "          >=  -------> greater than equal to\n",
    "          <=   -------> less than equal to"
   ]
  },
  {
   "cell_type": "markdown",
   "id": "f3eacc35",
   "metadata": {},
   "source": [
    "6. How do you tell the difference between the equal to and assignment operators?Describe a condition and when you would use one.\n"
   ]
  },
  {
   "cell_type": "markdown",
   "id": "1a0cdc36",
   "metadata": {},
   "source": [
    "Answer:- Equal operator use for compares two values and return True or False (eg:- 35 == 45)\n",
    "         Assignment operator is use to store a value to variable. (eg:- name = \"himanshu\")"
   ]
  },
  {
   "cell_type": "code",
   "execution_count": 22,
   "id": "113bd591",
   "metadata": {},
   "outputs": [
    {
     "data": {
      "text/plain": [
       "False"
      ]
     },
     "execution_count": 22,
     "metadata": {},
     "output_type": "execute_result"
    }
   ],
   "source": [
    "a = 35   # assign a value to a \n",
    "b = 45   # assign a value to b \n",
    "\n",
    "a == b    # comparing the both variable if they both are same or not."
   ]
  },
  {
   "cell_type": "markdown",
   "id": "df7bcdc7",
   "metadata": {},
   "source": [
    "7. Identify the three blocks in this code:    \n",
    "       \n",
    "'''spam = 0\n",
    "if spam == 10:\n",
    "print('eggs')\n",
    "if spam > 5:\n",
    "print('bacon')\n",
    "else:\n",
    "print('ham')\n",
    "print('spam')\n",
    "print('spam')'''\n",
    "    \n"
   ]
  },
  {
   "cell_type": "markdown",
   "id": "2e5cc384",
   "metadata": {},
   "source": [
    "Answer:- The three blocks are everything inside the if statement and the lines print('bacon') and print('ham').\n",
    "\n",
    "            print('eggs')\n",
    "            if spam > 5:\n",
    "            print('bacon')\n",
    "            else:\n",
    "            print('ham')\n",
    "            print('spam')"
   ]
  },
  {
   "cell_type": "markdown",
   "id": "e51b6f3a",
   "metadata": {},
   "source": [
    "8. Write code that prints Hello if 1 is stored in spam, prints Howdy if 2 is stored in spam, and prints Greetings! if anything else is stored in spam.\n"
   ]
  },
  {
   "cell_type": "code",
   "execution_count": 50,
   "id": "0606e46d",
   "metadata": {},
   "outputs": [
    {
     "name": "stdout",
     "output_type": "stream",
     "text": [
      "2\n",
      "Howdy\n"
     ]
    }
   ],
   "source": [
    "spam = int(input())\n",
    "\n",
    "if spam == 1:\n",
    "    print(\"Hello\")\n",
    "elif spam == 2:\n",
    "    print(\"Howdy\")\n",
    "else:\n",
    "    print(\"Greetings!\")"
   ]
  },
  {
   "cell_type": "markdown",
   "id": "fdb686c3",
   "metadata": {},
   "source": [
    "9.If your programme is stuck in an endless loop, what keys you’ll press"
   ]
  },
  {
   "cell_type": "markdown",
   "id": "0021a6d1",
   "metadata": {},
   "source": [
    "Answer:-  You can stop an infinite loop with CTRL + C"
   ]
  },
  {
   "cell_type": "markdown",
   "id": "68bb2457",
   "metadata": {},
   "source": [
    "10. How can you tell the difference between break and continue?\n"
   ]
  },
  {
   "cell_type": "markdown",
   "id": "1de1aca2",
   "metadata": {},
   "source": [
    "Answer:-  The break statement will move the execution outside and just after a loop. \n",
    "          The continue statement will move the execution to the start of the loop."
   ]
  },
  {
   "cell_type": "markdown",
   "id": "07c473ff",
   "metadata": {},
   "source": [
    "11. In a for loop, what is the difference between range(10), range(0, 10), and range(0, 10, 1)?\n"
   ]
  },
  {
   "cell_type": "markdown",
   "id": "906dfa4a",
   "metadata": {},
   "source": [
    "Answer:-  They are same it will print the number from  0 to 10(not incude the 10) and range (0,10,1) tells the loop to increase the variable by 1 on each iteration."
   ]
  },
  {
   "cell_type": "markdown",
   "id": "678081af",
   "metadata": {},
   "source": [
    "12. Write a short program that prints the numbers 1 to 10 using a for loop. Then write an equivalent program that prints the numbers 1 to 10 using a while loop.\n"
   ]
  },
  {
   "cell_type": "code",
   "execution_count": 60,
   "id": "273f7ea9",
   "metadata": {},
   "outputs": [
    {
     "name": "stdout",
     "output_type": "stream",
     "text": [
      "1\n",
      "2\n",
      "3\n",
      "4\n",
      "5\n",
      "6\n",
      "7\n",
      "8\n",
      "9\n",
      "10\n"
     ]
    }
   ],
   "source": [
    "for i in range(1,11):                 # printing the 1 to 10 using for loop.\n",
    "    print(i)"
   ]
  },
  {
   "cell_type": "code",
   "execution_count": 62,
   "id": "103ce6c1",
   "metadata": {},
   "outputs": [
    {
     "name": "stdout",
     "output_type": "stream",
     "text": [
      "1\n",
      "2\n",
      "3\n",
      "4\n",
      "5\n",
      "6\n",
      "7\n",
      "8\n",
      "9\n",
      "10\n"
     ]
    }
   ],
   "source": [
    "a = 1\n",
    "while a <= 10:\n",
    "    print(a)\n",
    "    a= a+1"
   ]
  },
  {
   "cell_type": "markdown",
   "id": "7414daee",
   "metadata": {},
   "source": [
    "13. If you had a function named bacon() inside a module named spam, how would you call it after importing spam?\n"
   ]
  },
  {
   "cell_type": "markdown",
   "id": "b7b64516",
   "metadata": {},
   "source": [
    "Answer:- function can be called with spam.bacon()"
   ]
  },
  {
   "cell_type": "code",
   "execution_count": null,
   "id": "6ce29d0b",
   "metadata": {},
   "outputs": [],
   "source": []
  }
 ],
 "metadata": {
  "kernelspec": {
   "display_name": "Python 3 (ipykernel)",
   "language": "python",
   "name": "python3"
  },
  "language_info": {
   "codemirror_mode": {
    "name": "ipython",
    "version": 3
   },
   "file_extension": ".py",
   "mimetype": "text/x-python",
   "name": "python",
   "nbconvert_exporter": "python",
   "pygments_lexer": "ipython3",
   "version": "3.9.7"
  }
 },
 "nbformat": 4,
 "nbformat_minor": 5
}
