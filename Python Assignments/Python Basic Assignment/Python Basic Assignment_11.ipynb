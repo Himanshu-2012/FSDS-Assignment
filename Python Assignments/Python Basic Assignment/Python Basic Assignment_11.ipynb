{
 "cells": [
  {
   "cell_type": "markdown",
   "id": "48ab1595",
   "metadata": {},
   "source": [
    "1. Create an assert statement that throws an AssertionError if the variable spam is a negative integer."
   ]
  },
  {
   "cell_type": "code",
   "execution_count": null,
   "id": "1c887027",
   "metadata": {},
   "outputs": [],
   "source": [
    "x = int(input())                                     #the running code\n",
    "assert x > 0\n",
    "print(\"The integar is positve\")"
   ]
  },
  {
   "cell_type": "markdown",
   "id": "b2621ce6",
   "metadata": {},
   "source": [
    "2. Write an assert statement that triggers an AssertionError if the variables eggs and bacon contain strings that are the same as each other, even if their cases are different (that is, 'hello' and 'hello' are considered the same, and 'goodbye' and 'GOODbye' are also considered the same)."
   ]
  },
  {
   "cell_type": "code",
   "execution_count": null,
   "id": "f5e9a265",
   "metadata": {},
   "outputs": [],
   "source": [
    "assert eggs.lower() != bacon.lower() 'The eggs and bacon variables are the same!' \n",
    "assert eggs.upper() != bacon.upper(), 'The eggs and bacon variables are the same!'"
   ]
  },
  {
   "cell_type": "markdown",
   "id": "fc5336be",
   "metadata": {},
   "source": [
    "3. Create an assert statement that throws an AssertionError every time."
   ]
  },
  {
   "cell_type": "code",
   "execution_count": null,
   "id": "d853f6b4",
   "metadata": {},
   "outputs": [],
   "source": [
    "assert False    # it will throw the error everytime"
   ]
  },
  {
   "cell_type": "markdown",
   "id": "ed2131e7",
   "metadata": {},
   "source": [
    "4. What are the two lines that must be present in your software in order to call logging.debug()?"
   ]
  },
  {
   "cell_type": "code",
   "execution_count": null,
   "id": "5a95cab5",
   "metadata": {},
   "outputs": [],
   "source": [
    "import logging\n",
    "logging.basicConfig(level=logging.DEBUG, format=' %(asctime)s -\n",
    "%(levelname)s - %(message)s')"
   ]
  },
  {
   "cell_type": "markdown",
   "id": "2004e703",
   "metadata": {},
   "source": [
    "5. What are the two lines that your program must have in order to have logging.debug() send a logging message to a file named programLog.txt?"
   ]
  },
  {
   "cell_type": "code",
   "execution_count": null,
   "id": "3f63e8b4",
   "metadata": {},
   "outputs": [],
   "source": [
    "import logging\n",
    ">>> logging.basicConfig(filename='programLog.txt', level=logging.DEBUG,\n",
    "format=' %(asctime)s - %(levelname)s - %(message)s')"
   ]
  },
  {
   "cell_type": "markdown",
   "id": "d15461d4",
   "metadata": {},
   "source": [
    "6. What are the five levels of logging?"
   ]
  },
  {
   "cell_type": "markdown",
   "id": "be491c3d",
   "metadata": {},
   "source": [
    "Answer:- DEBUG, INFO, WARNING, ERROR, and CRITICAL"
   ]
  },
  {
   "cell_type": "markdown",
   "id": "b2120e13",
   "metadata": {},
   "source": [
    "7. What line of code would you add to your software to disable all logging messages?"
   ]
  },
  {
   "cell_type": "markdown",
   "id": "55d7237f",
   "metadata": {},
   "source": [
    "Answer:- logging.disable(logging.CRITICAL)"
   ]
  },
  {
   "cell_type": "markdown",
   "id": "58d129a5",
   "metadata": {},
   "source": [
    "8.Why is using logging messages better than using print() to display the same message?"
   ]
  },
  {
   "cell_type": "markdown",
   "id": "99555edd",
   "metadata": {},
   "source": [
    "Answer:-  You can disable logging messages without removing the logging function calls. You can selectively disable lower-level logging messages. You\n",
    "can create logging messages. Logging messages provides a timestamp"
   ]
  },
  {
   "cell_type": "markdown",
   "id": "5cae9216",
   "metadata": {},
   "source": [
    "9. What are the differences between the Step Over, Step In, and Step Out buttons in the debugger?"
   ]
  },
  {
   "cell_type": "markdown",
   "id": "3ff8adc2",
   "metadata": {},
   "source": [
    "Answer:- it will move the debugger into a function call. The\n",
    "Step Over button will execute the function call without stepping into it. \n",
    "The Step Out button will  execute the rest of the\n",
    "code until it steps out of the function it currently is in."
   ]
  },
  {
   "cell_type": "markdown",
   "id": "5cd63801",
   "metadata": {},
   "source": [
    "10.After you click Continue, when will the debugger stop ?\n"
   ]
  },
  {
   "cell_type": "markdown",
   "id": "6339fc58",
   "metadata": {},
   "source": [
    "Answer:- if you click Continue, the debugger will stop when it has reached\n",
    "         the end of the program or a line."
   ]
  },
  {
   "cell_type": "markdown",
   "id": "26b54b9a",
   "metadata": {},
   "source": [
    "11. What is the concept of a breakpoint?"
   ]
  },
  {
   "cell_type": "markdown",
   "id": "1fac61b3",
   "metadata": {},
   "source": [
    "Answer:- it is a setting on a line of code that causes the debugger to\n",
    "         pause when the program execution reaches the line"
   ]
  },
  {
   "cell_type": "code",
   "execution_count": null,
   "id": "81fb9ff2",
   "metadata": {},
   "outputs": [],
   "source": []
  },
  {
   "cell_type": "code",
   "execution_count": null,
   "id": "714d1b3c",
   "metadata": {},
   "outputs": [],
   "source": []
  },
  {
   "cell_type": "code",
   "execution_count": null,
   "id": "2a5e3d8a",
   "metadata": {},
   "outputs": [],
   "source": []
  },
  {
   "cell_type": "code",
   "execution_count": null,
   "id": "5baaf4d3",
   "metadata": {},
   "outputs": [],
   "source": []
  }
 ],
 "metadata": {
  "kernelspec": {
   "display_name": "Python 3 (ipykernel)",
   "language": "python",
   "name": "python3"
  },
  "language_info": {
   "codemirror_mode": {
    "name": "ipython",
    "version": 3
   },
   "file_extension": ".py",
   "mimetype": "text/x-python",
   "name": "python",
   "nbconvert_exporter": "python",
   "pygments_lexer": "ipython3",
   "version": "3.9.7"
  }
 },
 "nbformat": 4,
 "nbformat_minor": 5
}
