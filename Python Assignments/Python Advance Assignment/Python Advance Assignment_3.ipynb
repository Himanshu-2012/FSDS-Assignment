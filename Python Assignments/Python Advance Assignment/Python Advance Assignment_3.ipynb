{
 "cells": [
  {
   "cell_type": "markdown",
   "id": "956d5e26",
   "metadata": {},
   "source": [
    "1. What is the concept of an abstract superclass?"
   ]
  },
  {
   "cell_type": "markdown",
   "id": "420cd21c",
   "metadata": {},
   "source": [
    "Answer:- An abstract superclass is a class that calls a method, but does not inherit or define it — it expects the method to be filled in by a subclass. This is often used as a way to generalize classes when behavior cannot be predicted until a more specific subclass is coded."
   ]
  },
  {
   "cell_type": "markdown",
   "id": "7a0f9c99",
   "metadata": {},
   "source": [
    "2. What happens when a class statement's top level contains a basic assignment statement?\n"
   ]
  },
  {
   "cell_type": "markdown",
   "id": "7df34bad",
   "metadata": {},
   "source": [
    "Answer:- When a class statements top level contains a simple assignment statement (X = Y), it attaches a data attribute to the\n",
    "class (Class.X). Like all class attributes, this will be shared by all instances; data attributes are not callable method functions, though."
   ]
  },
  {
   "cell_type": "markdown",
   "id": "cb5d20b2",
   "metadata": {},
   "source": [
    "3. Why does a class need to manually call a superclass's __init__ method?"
   ]
  },
  {
   "cell_type": "markdown",
   "id": "a762575d",
   "metadata": {},
   "source": [
    "Answer:- class must manually call the __init__ method in a superclass if it defines an __init__ constructor of its own and still wants the superclass’s construction code to run. Python itself automatically runs just one constructor—the lowest one in\n",
    "the tree. Superclass constructors are usually called through the class name, passing in the self instance manually."
   ]
  },
  {
   "cell_type": "markdown",
   "id": "2d2bf63c",
   "metadata": {},
   "source": [
    "4. How can you augment, instead of completely replacing, an inherited method?\n"
   ]
  },
  {
   "cell_type": "markdown",
   "id": "c6300fbe",
   "metadata": {},
   "source": [
    "Answer:-  To augment instead of completely replacing an inherited method, redefine it in a subclass, but call back to the superclass’s version of the method manually from the new version of the method in the subclass."
   ]
  },
  {
   "cell_type": "markdown",
   "id": "4b9f39fa",
   "metadata": {},
   "source": [
    "5. How is the local scope of a class different from that of a function?"
   ]
  },
  {
   "cell_type": "markdown",
   "id": "c50355b2",
   "metadata": {},
   "source": [
    "Answer:- A class is a local scope and has access to enclosing local scopes, but it does not serve as an enclosing local scope to further nested code. Like modules, the class local scope morphs into an attribute namespace after the class statement is run."
   ]
  }
 ],
 "metadata": {
  "kernelspec": {
   "display_name": "Python 3 (ipykernel)",
   "language": "python",
   "name": "python3"
  },
  "language_info": {
   "codemirror_mode": {
    "name": "ipython",
    "version": 3
   },
   "file_extension": ".py",
   "mimetype": "text/x-python",
   "name": "python",
   "nbconvert_exporter": "python",
   "pygments_lexer": "ipython3",
   "version": "3.9.7"
  }
 },
 "nbformat": 4,
 "nbformat_minor": 5
}
