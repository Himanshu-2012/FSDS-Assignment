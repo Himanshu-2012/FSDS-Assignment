{
 "cells": [
  {
   "cell_type": "markdown",
   "id": "72be5bb6",
   "metadata": {},
   "source": [
    "Write a Python Program to Find LCM?\n"
   ]
  },
  {
   "cell_type": "code",
   "execution_count": 1,
   "id": "772fc8d2",
   "metadata": {},
   "outputs": [
    {
     "name": "stdout",
     "output_type": "stream",
     "text": [
      "LCM of 6 and 8 is 24\n"
     ]
    }
   ],
   "source": [
    "def lcm(num_1,num_2):\n",
    "    if num_1>num_2:\n",
    "        max = num_1\n",
    "    else:\n",
    "        max = num_2\n",
    "    while True:\n",
    "        if max%num_1==0 and max%num_2==0:\n",
    "            print(\"LCM of {} and {} is {}\".format(num_1, num_2, max))\n",
    "            break\n",
    "        max = max+1\n",
    "        \n",
    "lcm(6,8)"
   ]
  },
  {
   "cell_type": "markdown",
   "id": "46e661b0",
   "metadata": {},
   "source": [
    "Write a Python Program to Find HCF?\n"
   ]
  },
  {
   "cell_type": "code",
   "execution_count": 14,
   "id": "31c36c11",
   "metadata": {},
   "outputs": [
    {
     "name": "stdout",
     "output_type": "stream",
     "text": [
      "HCF is:  1\n"
     ]
    }
   ],
   "source": [
    "def hcf(num_1,num_2):\n",
    "    if num_1<num_2:\n",
    "        min = num_1\n",
    "    else:\n",
    "        min = num_2\n",
    "    for i in range(1,min+1):\n",
    "        if num_1%i==0 and num_2%i==0:\n",
    "            hcf=i\n",
    "            break\n",
    "    print(\"HCF is: \", hcf)\n",
    "    \n",
    "\n",
    "\n",
    "hcf(10,23)"
   ]
  },
  {
   "cell_type": "markdown",
   "id": "19f60fb5",
   "metadata": {},
   "source": [
    "Write a Python Program to Convert Decimal to Binary, Octal and Hexadecimal?\n"
   ]
  },
  {
   "cell_type": "code",
   "execution_count": 15,
   "id": "b64f65b2",
   "metadata": {},
   "outputs": [
    {
     "name": "stdout",
     "output_type": "stream",
     "text": [
      "Enter Decimal Number: 34\n",
      "Decimal to Binary:  0b100010\n",
      "Decimal to Octal:  0o42\n",
      "Decimal to Hexadecimal:  0x22\n"
     ]
    }
   ],
   "source": [
    "num = int(input(\"Enter Decimal Number: \"))\n",
    "print(\"Decimal to Binary: \",bin(num))\n",
    "print(\"Decimal to Octal: \",oct(num))\n",
    "print(\"Decimal to Hexadecimal: \",hex(num))"
   ]
  },
  {
   "cell_type": "markdown",
   "id": "548ba831",
   "metadata": {},
   "source": [
    "Write a Python Program To Find ASCII value of a character?\n"
   ]
  },
  {
   "cell_type": "code",
   "execution_count": 16,
   "id": "eefa6f08",
   "metadata": {},
   "outputs": [
    {
     "data": {
      "text/plain": [
       "98"
      ]
     },
     "execution_count": 16,
     "metadata": {},
     "output_type": "execute_result"
    }
   ],
   "source": [
    "def ascii_value(character):\n",
    "    return ord(character)\n",
    "\n",
    "ascii_value(\"b\")"
   ]
  },
  {
   "cell_type": "markdown",
   "id": "2cee5a1c",
   "metadata": {},
   "source": [
    "Write a Python Program to Make a Simple Calculator with 4 basic mathematical operations?"
   ]
  },
  {
   "cell_type": "code",
   "execution_count": 17,
   "id": "e2fdb8fd",
   "metadata": {},
   "outputs": [
    {
     "name": "stdout",
     "output_type": "stream",
     "text": [
      "What operation would you like to perform: multiply\n",
      "23 X 45 = 1035\n"
     ]
    }
   ],
   "source": [
    "def calculator(a,b):\n",
    "    ops = str(input(\"What operation would you like to perform: \"))\n",
    "    if ops == \"add\":\n",
    "        print(\"{} + {} = {}\".format(a,b,a+b))\n",
    "    elif ops == \"substract\":\n",
    "        print(\"{} - {} = {}\".format(a,b,a-b))\n",
    "    elif ops == \"multiply\":\n",
    "        print(\"{} X {} = {}\".format(a,b,a*b))\n",
    "    elif ops == \"division\":\n",
    "        print(\"{} / {} = {}\".format(a,b,a/b))\n",
    "    else:\n",
    "        print(\"Enter correct operation\")\n",
    "        \n",
    "\n",
    "calculator(23,45)"
   ]
  },
  {
   "cell_type": "code",
   "execution_count": null,
   "id": "c98731da",
   "metadata": {},
   "outputs": [],
   "source": []
  }
 ],
 "metadata": {
  "kernelspec": {
   "display_name": "Python 3 (ipykernel)",
   "language": "python",
   "name": "python3"
  },
  "language_info": {
   "codemirror_mode": {
    "name": "ipython",
    "version": 3
   },
   "file_extension": ".py",
   "mimetype": "text/x-python",
   "name": "python",
   "nbconvert_exporter": "python",
   "pygments_lexer": "ipython3",
   "version": "3.9.7"
  }
 },
 "nbformat": 4,
 "nbformat_minor": 5
}
