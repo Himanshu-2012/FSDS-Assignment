{
 "cells": [
  {
   "cell_type": "markdown",
   "id": "3d85cb17",
   "metadata": {},
   "source": [
    "### Question1. Write a function that stutters a word as if someone is struggling to read it. The first two letters are repeated twice with an ellipsis ... and space after each, and then the word is pronounced with a question mark ?.\n",
    "#### Examples\n",
    "#### stutter(&quot;incredible&quot;) ➞ &quot;in... in... incredible?&quot;\n",
    "#### stutter(&quot;enthusiastic&quot;) ➞ &quot;en... en... enthusiastic?&quot;\n",
    "#### stutter(&quot;outstanding&quot;) ➞ &quot;ou... ou... outstanding?&quot;\n",
    "#### \n",
    "#### Hint :- Assume all input is in lower case and at least two characters long."
   ]
  },
  {
   "cell_type": "code",
   "execution_count": 1,
   "id": "b370ec4c",
   "metadata": {},
   "outputs": [],
   "source": [
    "def stutter(word):\n",
    "    print('->',(2*(word[:2]+'... '))+word+'?')"
   ]
  },
  {
   "cell_type": "code",
   "execution_count": 2,
   "id": "4f2d7553",
   "metadata": {},
   "outputs": [
    {
     "name": "stdout",
     "output_type": "stream",
     "text": [
      "-> in... in... incredible?\n",
      "-> en... en... enthusiastic?\n",
      "-> ou... ou... outstanding?\n"
     ]
    }
   ],
   "source": [
    "stutter(\"incredible\")\n",
    "stutter(\"enthusiastic\")\n",
    "stutter(\"outstanding\")"
   ]
  },
  {
   "cell_type": "markdown",
   "id": "f8191ddf",
   "metadata": {},
   "source": [
    "### Question 2.Create a function that takes an angle in radians and returns the corresponding angle in degrees rounded to one decimal place.\n",
    "#### Examples\n",
    "#### radians_to_degrees(1) ➞ 57.3\n",
    "#### radians_to_degrees(20) ➞ 1145.9\n",
    "#### radians_to_degrees(50) ➞ 2864.8"
   ]
  },
  {
   "cell_type": "code",
   "execution_count": 3,
   "id": "eb9374e5",
   "metadata": {},
   "outputs": [],
   "source": [
    "def radians_to_degrees(n):\n",
    "    return n*180/3.14"
   ]
  },
  {
   "cell_type": "code",
   "execution_count": 4,
   "id": "03a77cbc",
   "metadata": {},
   "outputs": [
    {
     "data": {
      "text/plain": [
       "57.324840764331206"
      ]
     },
     "execution_count": 4,
     "metadata": {},
     "output_type": "execute_result"
    }
   ],
   "source": [
    "radians_to_degrees(1)"
   ]
  },
  {
   "cell_type": "code",
   "execution_count": 5,
   "id": "4fa25929",
   "metadata": {},
   "outputs": [
    {
     "data": {
      "text/plain": [
       "1146.4968152866243"
      ]
     },
     "execution_count": 5,
     "metadata": {},
     "output_type": "execute_result"
    }
   ],
   "source": [
    "radians_to_degrees(20)"
   ]
  },
  {
   "cell_type": "code",
   "execution_count": 6,
   "id": "90cacce4",
   "metadata": {},
   "outputs": [
    {
     "data": {
      "text/plain": [
       "2866.2420382165606"
      ]
     },
     "execution_count": 6,
     "metadata": {},
     "output_type": "execute_result"
    }
   ],
   "source": [
    "radians_to_degrees(50)"
   ]
  },
  {
   "cell_type": "markdown",
   "id": "9d66db28",
   "metadata": {},
   "source": [
    "### Question 3. In this challenge, establish if a given integer num is a Curzon number. If 1 plus 2 elevated to num is exactly divisible by 1 plus 2 multiplied by num, then num is a Curzon number. Given a non-negative integer num, implement a function that returns True if num is a Curzon number, or False otherwise.\n",
    "#### Examples\n",
    "#### is_curzon(5) ➞ True\n",
    "#### # 2 ** 5 + 1 = 33\n",
    "#### # 2 * 5 + 1 = 11\n",
    "#### # 33 is a multiple of 11\n",
    "#### is_curzon(10) ➞ False\n",
    "#### # 2 ** 10 + 1 = 1025\n",
    "#### # 2 * 10 + 1 = 21\n",
    "#### # 1025 is not a multiple of 21\n",
    "#### is_curzon(14) ➞ True\n",
    "#### # 2 ** 14 + 1 = 16385\n",
    "#### # 2 * 14 + 1 = 29\n",
    "#### # 16385 is a multiple of 29"
   ]
  },
  {
   "cell_type": "code",
   "execution_count": 7,
   "id": "233c71b3",
   "metadata": {},
   "outputs": [],
   "source": [
    "def is_curzon(n):\n",
    "    a = pow(2,n)+1\n",
    "    b = (2*n)+1\n",
    "    return a%b==0"
   ]
  },
  {
   "cell_type": "code",
   "execution_count": 8,
   "id": "08211dd2",
   "metadata": {},
   "outputs": [
    {
     "data": {
      "text/plain": [
       "True"
      ]
     },
     "execution_count": 8,
     "metadata": {},
     "output_type": "execute_result"
    }
   ],
   "source": [
    "is_curzon(5)"
   ]
  },
  {
   "cell_type": "code",
   "execution_count": 9,
   "id": "a704f9cb",
   "metadata": {},
   "outputs": [
    {
     "data": {
      "text/plain": [
       "False"
      ]
     },
     "execution_count": 9,
     "metadata": {},
     "output_type": "execute_result"
    }
   ],
   "source": [
    "is_curzon(10)"
   ]
  },
  {
   "cell_type": "code",
   "execution_count": 10,
   "id": "cc6ca768",
   "metadata": {},
   "outputs": [
    {
     "data": {
      "text/plain": [
       "True"
      ]
     },
     "execution_count": 10,
     "metadata": {},
     "output_type": "execute_result"
    }
   ],
   "source": [
    "is_curzon(14)"
   ]
  },
  {
   "cell_type": "markdown",
   "id": "2f2ac4ca",
   "metadata": {},
   "source": [
    "### Question 4.Given the side length x find the area of a hexagon.\n",
    "#### Examples\n",
    "#### area_of_hexagon(1) ➞ 2.6\n",
    "#### area_of_hexagon(2) ➞ 10.4\n",
    "#### area_of_hexagon(3) ➞ 23.4"
   ]
  },
  {
   "cell_type": "code",
   "execution_count": 11,
   "id": "b7416089",
   "metadata": {},
   "outputs": [],
   "source": [
    "def area_of_hexagon(side_length):\n",
    "    area = (3*1.73*side_length*side_length)/2\n",
    "    print(area)"
   ]
  },
  {
   "cell_type": "code",
   "execution_count": 12,
   "id": "62d9b248",
   "metadata": {},
   "outputs": [
    {
     "name": "stdout",
     "output_type": "stream",
     "text": [
      "2.5949999999999998\n"
     ]
    }
   ],
   "source": [
    "area_of_hexagon(1)"
   ]
  },
  {
   "cell_type": "code",
   "execution_count": 13,
   "id": "79b916e7",
   "metadata": {},
   "outputs": [
    {
     "name": "stdout",
     "output_type": "stream",
     "text": [
      "10.379999999999999\n"
     ]
    }
   ],
   "source": [
    "area_of_hexagon(2)"
   ]
  },
  {
   "cell_type": "code",
   "execution_count": 14,
   "id": "2f004a6e",
   "metadata": {},
   "outputs": [
    {
     "name": "stdout",
     "output_type": "stream",
     "text": [
      "23.354999999999997\n"
     ]
    }
   ],
   "source": [
    "area_of_hexagon(3)"
   ]
  },
  {
   "cell_type": "markdown",
   "id": "770a307a",
   "metadata": {},
   "source": [
    "### Question 5. Create a function that returns a base-2 (binary) representation of a base-10 (decimal) string number. To convert is simple: \n",
    "#### ((2) means base-2 and (10) means base-10)\n",
    "#### 010101001(2) = 1 + 8 + 32 + 128.\n",
    "#### Going from right to left, the value of the most right bit is 1, now from that every bit to the left\n",
    "#### will be x2 the value, value of an 8 bit binary numbers are (256, 128, 64, 32, 16, 8, 4, 2, 1).\n",
    "#### Examples\n",
    "#### binary(1) ➞ &quot;1&quot;\n",
    "#### # 1* 1 = 1\n",
    "#### binary(5) ➞ &quot;101&quot;\n",
    "#### # 1 * 1 + 1 * 4 = 5\n",
    "#### binary(10) ➞ &quot;1010&quot;\n",
    "#### # 1* 2 + 1* 8  = 10"
   ]
  },
  {
   "cell_type": "code",
   "execution_count": 15,
   "id": "039295af",
   "metadata": {},
   "outputs": [],
   "source": [
    "def binary(n):\n",
    "    return bin(n).replace(\"0b\",\"\")"
   ]
  },
  {
   "cell_type": "code",
   "execution_count": 16,
   "id": "bf902f22",
   "metadata": {},
   "outputs": [
    {
     "data": {
      "text/plain": [
       "'1010'"
      ]
     },
     "execution_count": 16,
     "metadata": {},
     "output_type": "execute_result"
    }
   ],
   "source": [
    "binary(10)"
   ]
  },
  {
   "cell_type": "code",
   "execution_count": 17,
   "id": "2f4c3855",
   "metadata": {},
   "outputs": [
    {
     "data": {
      "text/plain": [
       "'101'"
      ]
     },
     "execution_count": 17,
     "metadata": {},
     "output_type": "execute_result"
    }
   ],
   "source": [
    "binary(5)"
   ]
  },
  {
   "cell_type": "code",
   "execution_count": 19,
   "id": "c05f0e1d",
   "metadata": {},
   "outputs": [
    {
     "data": {
      "text/plain": [
       "'1'"
      ]
     },
     "execution_count": 19,
     "metadata": {},
     "output_type": "execute_result"
    }
   ],
   "source": [
    "binary(1)"
   ]
  }
 ],
 "metadata": {
  "kernelspec": {
   "display_name": "Python 3 (ipykernel)",
   "language": "python",
   "name": "python3"
  },
  "language_info": {
   "codemirror_mode": {
    "name": "ipython",
    "version": 3
   },
   "file_extension": ".py",
   "mimetype": "text/x-python",
   "name": "python",
   "nbconvert_exporter": "python",
   "pygments_lexer": "ipython3",
   "version": "3.9.7"
  }
 },
 "nbformat": 4,
 "nbformat_minor": 5
}
