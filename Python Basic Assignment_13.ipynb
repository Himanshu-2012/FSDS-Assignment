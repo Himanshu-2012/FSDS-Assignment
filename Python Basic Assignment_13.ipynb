{
 "cells": [
  {
   "cell_type": "markdown",
   "id": "3b20d37f",
   "metadata": {},
   "source": [
    "1. What advantages do Excel spreadsheets have over CSV spreadsheets?\n"
   ]
  },
  {
   "cell_type": "markdown",
   "id": "2b048bde",
   "metadata": {},
   "source": [
    "Answer:- In Excel spreadsheets can have values of data types other than strings,cells can have different fonts, sizes, or color settings; cells can have\n",
    "varying widths and heights; adjacent cells can be merged; and you can embed images and charts."
   ]
  },
  {
   "cell_type": "markdown",
   "id": "205b7fdd",
   "metadata": {},
   "source": [
    "2.What do you pass to csv.reader() and csv.writer() to create reader and writer objects?"
   ]
  },
  {
   "cell_type": "markdown",
   "id": "c8758bbc",
   "metadata": {},
   "source": [
    "Answer:- You pass a File object, obtained from a call to open()"
   ]
  },
  {
   "cell_type": "markdown",
   "id": "b7e21292",
   "metadata": {},
   "source": [
    "3. What modes do File objects for reader and writer objects need to be opened in?"
   ]
  },
  {
   "cell_type": "markdown",
   "id": "f047b615",
   "metadata": {},
   "source": [
    "Answer:- it need to be opened in read-binary ('rb') for reader objects and write-binary ('wb') for writer objects."
   ]
  },
  {
   "cell_type": "markdown",
   "id": "aac92458",
   "metadata": {},
   "source": [
    "4. What method takes a list argument and writes it to a CSV file?"
   ]
  },
  {
   "cell_type": "markdown",
   "id": "61a9c490",
   "metadata": {},
   "source": [
    "Answer:- writerow()"
   ]
  },
  {
   "cell_type": "markdown",
   "id": "62865ecc",
   "metadata": {},
   "source": [
    "5. What do the keyword arguments delimiter and line terminator do?"
   ]
  },
  {
   "cell_type": "markdown",
   "id": "a92de926",
   "metadata": {},
   "source": [
    "Answer:- delimiter argument changes the string used to separate cells in a row.\n",
    "         lineterminator argument changes the string used to separate rows."
   ]
  },
  {
   "cell_type": "markdown",
   "id": "01ccc25f",
   "metadata": {},
   "source": [
    "6. What function takes a string of JSON data and returns a Python data structure?"
   ]
  },
  {
   "cell_type": "markdown",
   "id": "83f604c5",
   "metadata": {},
   "source": [
    "Answer:- json.loads()"
   ]
  },
  {
   "cell_type": "markdown",
   "id": "a8e4e63f",
   "metadata": {},
   "source": [
    "7. What function takes a Python data structure and returns a string of JSON data?"
   ]
  },
  {
   "cell_type": "markdown",
   "id": "43f468ad",
   "metadata": {},
   "source": [
    "Answer:- json.dumps()"
   ]
  },
  {
   "cell_type": "code",
   "execution_count": null,
   "id": "0d705181",
   "metadata": {},
   "outputs": [],
   "source": []
  }
 ],
 "metadata": {
  "kernelspec": {
   "display_name": "Python 3 (ipykernel)",
   "language": "python",
   "name": "python3"
  },
  "language_info": {
   "codemirror_mode": {
    "name": "ipython",
    "version": 3
   },
   "file_extension": ".py",
   "mimetype": "text/x-python",
   "name": "python",
   "nbconvert_exporter": "python",
   "pygments_lexer": "ipython3",
   "version": "3.9.7"
  }
 },
 "nbformat": 4,
 "nbformat_minor": 5
}
