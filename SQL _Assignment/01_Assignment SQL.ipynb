{
 "cells": [
  {
   "cell_type": "markdown",
   "id": "bc54568f",
   "metadata": {},
   "source": [
    "Q-1. Write an SQL query to fetch `“FIRST_NAME”` from Worker table using the alias name as` <WORKER_NAME>`.\n"
   ]
  },
  {
   "cell_type": "markdown",
   "id": "2d4f75df",
   "metadata": {},
   "source": [
    "Answer:- SELECT FIRST_NAME AS WORKER_NAME FROM Worker;`"
   ]
  },
  {
   "cell_type": "markdown",
   "id": "308aba6a",
   "metadata": {},
   "source": [
    "Q-2. Write an SQL query to fetch unique values of DEPARTMENT from Worker table."
   ]
  },
  {
   "cell_type": "markdown",
   "id": "63cb1a61",
   "metadata": {},
   "source": [
    "Answer:- SELECT DISTINCT DEPARTMENT FROM Worker;`"
   ]
  },
  {
   "cell_type": "markdown",
   "id": "a9f9c474",
   "metadata": {},
   "source": [
    "Q-3. Write an SQL query to show the last 5 record from a table.\n"
   ]
  },
  {
   "cell_type": "markdown",
   "id": "d172024d",
   "metadata": {},
   "source": [
    "Answer-`SELECT * from Worker ORDER by id DESC LIMIT 5;`"
   ]
  }
 ],
 "metadata": {
  "kernelspec": {
   "display_name": "Python 3 (ipykernel)",
   "language": "python",
   "name": "python3"
  },
  "language_info": {
   "codemirror_mode": {
    "name": "ipython",
    "version": 3
   },
   "file_extension": ".py",
   "mimetype": "text/x-python",
   "name": "python",
   "nbconvert_exporter": "python",
   "pygments_lexer": "ipython3",
   "version": "3.9.7"
  }
 },
 "nbformat": 4,
 "nbformat_minor": 5
}
