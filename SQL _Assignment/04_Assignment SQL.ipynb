{
 "cells": [
  {
   "cell_type": "markdown",
   "id": "2206e42b",
   "metadata": {},
   "source": [
    "Q-1. Write an SQL query to print the FIRST_NAME from Worker table after replacing ‘a’ with ‘A’.\n"
   ]
  },
  {
   "cell_type": "markdown",
   "id": "003deaec",
   "metadata": {},
   "source": [
    "Answer:- `SELECT REPLACE(FIRST_NAME,'a','A') FROM Wokrer;`"
   ]
  },
  {
   "cell_type": "markdown",
   "id": "fee1d9da",
   "metadata": {},
   "source": [
    "Q-2. Write an SQL query to print all Worker details from the Worker table order by FIRST_NAME Ascending and DEPARTMENT Descending.\n"
   ]
  },
  {
   "cell_type": "markdown",
   "id": "a743e54c",
   "metadata": {},
   "source": [
    "Answer:- `SELECT * FROM Worker ORDER BY FIRST_NAME ASC, LAST_NAME DESC;`"
   ]
  },
  {
   "cell_type": "markdown",
   "id": "3d3ef662",
   "metadata": {},
   "source": [
    "Q-3. Write an SQL query to fetch the names of workers who earn the highest salary.\n"
   ]
  },
  {
   "cell_type": "markdown",
   "id": "f3bc0097",
   "metadata": {},
   "source": [
    "Answer:- `SELECT FIRST_NAME, LAST_NAME FROM Worker WHERE SALARY = (SELECT MAX(SALARY) FROM Worker);`"
   ]
  }
 ],
 "metadata": {
  "kernelspec": {
   "display_name": "Python 3 (ipykernel)",
   "language": "python",
   "name": "python3"
  },
  "language_info": {
   "codemirror_mode": {
    "name": "ipython",
    "version": 3
   },
   "file_extension": ".py",
   "mimetype": "text/x-python",
   "name": "python",
   "nbconvert_exporter": "python",
   "pygments_lexer": "ipython3",
   "version": "3.9.7"
  }
 },
 "nbformat": 4,
 "nbformat_minor": 5
}
