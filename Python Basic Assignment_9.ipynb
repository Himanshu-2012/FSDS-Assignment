{
 "cells": [
  {
   "cell_type": "markdown",
   "id": "b6e34806",
   "metadata": {},
   "source": [
    "1. To what does a relative path refer?"
   ]
  },
  {
   "cell_type": "markdown",
   "id": "9748bd8d",
   "metadata": {},
   "source": [
    "Answer:- it relative to the current working directory."
   ]
  },
  {
   "cell_type": "markdown",
   "id": "c1aba078",
   "metadata": {},
   "source": [
    "2. What does an absolute path start with your operating system?"
   ]
  },
  {
   "cell_type": "markdown",
   "id": "72f7aa56",
   "metadata": {},
   "source": [
    "Answer:- it start with the root folder, such as / or C:\\"
   ]
  },
  {
   "cell_type": "markdown",
   "id": "e9623eec",
   "metadata": {},
   "source": [
    "3. What do the functions os.getcwd() and os.chdir() do?"
   ]
  },
  {
   "cell_type": "markdown",
   "id": "e58bf2c0",
   "metadata": {},
   "source": [
    "Answer:- os.getcwd() returns the current working directory.\n",
    "         os.chdir() changes the current working directory."
   ]
  },
  {
   "cell_type": "markdown",
   "id": "9362dc8b",
   "metadata": {},
   "source": [
    "4. What are the . and .. folders?"
   ]
  },
  {
   "cell_type": "markdown",
   "id": "779950e6",
   "metadata": {},
   "source": [
    "Answer:- . folder is the current folder, and .. is the parent folder"
   ]
  },
  {
   "cell_type": "markdown",
   "id": "e9266685",
   "metadata": {},
   "source": [
    "5. In C:\\bacon\\eggs\\spam.txt, which part is the dir name, and which part is the base name?"
   ]
  },
  {
   "cell_type": "markdown",
   "id": "ee2e24fc",
   "metadata": {},
   "source": [
    "Answer:- C:\\bacon\\eggs is the dir name"
   ]
  },
  {
   "cell_type": "markdown",
   "id": "abc3fe35",
   "metadata": {},
   "source": [
    "6. What are the three “mode” arguments that can be passed to the open() function?"
   ]
  },
  {
   "cell_type": "markdown",
   "id": "e50b59e7",
   "metadata": {},
   "source": [
    "Answer:- The 'r' for read mode, 'w' for write mode, and 'a' for append mode"
   ]
  },
  {
   "cell_type": "markdown",
   "id": "03049d05",
   "metadata": {},
   "source": [
    "7. What happens if an existing file is opened in write mode?"
   ]
  },
  {
   "cell_type": "markdown",
   "id": "e49f7d2c",
   "metadata": {},
   "source": [
    "Answer: it will erased and completely overwritten."
   ]
  },
  {
   "cell_type": "markdown",
   "id": "59e01313",
   "metadata": {},
   "source": [
    "8. How do you tell the difference between read() and readlines()?"
   ]
  },
  {
   "cell_type": "markdown",
   "id": "fa8f1ee4",
   "metadata": {},
   "source": [
    "Answer:- read() returns the file’s entire contents\n",
    "         readlines() returns a contents line by line."
   ]
  },
  {
   "cell_type": "markdown",
   "id": "30b9f6b4",
   "metadata": {},
   "source": [
    "9. What data structure does a shelf value resemble?"
   ]
  },
  {
   "cell_type": "markdown",
   "id": "3d68248e",
   "metadata": {},
   "source": [
    "Answer:- A shelf value resembles a dictionary value; it has keys and values, along\n",
    "         with keys() and values() methods that work similarly to the dictionary\n"
   ]
  }
 ],
 "metadata": {
  "kernelspec": {
   "display_name": "Python 3 (ipykernel)",
   "language": "python",
   "name": "python3"
  },
  "language_info": {
   "codemirror_mode": {
    "name": "ipython",
    "version": 3
   },
   "file_extension": ".py",
   "mimetype": "text/x-python",
   "name": "python",
   "nbconvert_exporter": "python",
   "pygments_lexer": "ipython3",
   "version": "3.9.7"
  }
 },
 "nbformat": 4,
 "nbformat_minor": 5
}
