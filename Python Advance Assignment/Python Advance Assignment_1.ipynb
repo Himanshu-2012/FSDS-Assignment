{
 "cells": [
  {
   "cell_type": "markdown",
   "id": "595103ab",
   "metadata": {},
   "source": [
    "Q1. What is the purpose of Python's OOP?"
   ]
  },
  {
   "cell_type": "markdown",
   "id": "1edeca58",
   "metadata": {},
   "source": [
    "Answer:- In simple words you can say it is a approaches to solve a programming problem is by creating classed & objects. This is known as Object-Oriented Programming (OOP). "
   ]
  },
  {
   "cell_type": "markdown",
   "id": "5b9c4300",
   "metadata": {},
   "source": [
    "Q2. Where does an inheritance search look for an attribute?\n"
   ]
  },
  {
   "cell_type": "markdown",
   "id": "881bd6b3",
   "metadata": {},
   "source": [
    "Answer:- An inheritance search looks for an attribute first in the instance object, then in the class the instance was created from, then in all higher superclasses, progressing from the bottom to the top of the object tree, and from left to right (by default). The search stops at the first place the attribute is found."
   ]
  },
  {
   "cell_type": "markdown",
   "id": "b5dfd966",
   "metadata": {},
   "source": [
    "Q3. How do you distinguish between a class object and an instance object?\n"
   ]
  },
  {
   "cell_type": "markdown",
   "id": "1f10badc",
   "metadata": {},
   "source": [
    "Answer:-  Both class and instance objects are packages of variables that appear as attributes.\n",
    "The main difference between them is that classes are a kind of factory for creating multiple instances.\n",
    "\n",
    "Classes also support operator overloading methods, which instances inherit, and treat any functions nested \n",
    "in the class as methods for processing instances."
   ]
  },
  {
   "cell_type": "markdown",
   "id": "40d5eda2",
   "metadata": {},
   "source": [
    "Q4. What makes the first argument in a class’s method function special?"
   ]
  },
  {
   "cell_type": "markdown",
   "id": "1de5114c",
   "metadata": {},
   "source": [
    "Answer:- first argument in a class’s method function is special because it always receives the instance object that is the implied subject of the method call. It’s usually called self by convention. Because method functions always have this implied subject and object context by default."
   ]
  },
  {
   "cell_type": "markdown",
   "id": "8c1bd26f",
   "metadata": {},
   "source": [
    "Q5. What is the purpose of the __init__ method?\n"
   ]
  },
  {
   "cell_type": "markdown",
   "id": "bbac0018",
   "metadata": {},
   "source": [
    "Answer: \"__init__\" is a reseved method in python classes. This method is called when an object is created from a class and it allows the class to initialize the attributes\n",
    "of the class."
   ]
  },
  {
   "cell_type": "markdown",
   "id": "615486a0",
   "metadata": {},
   "source": [
    "Q6. What is the process for creating a class instance?\n"
   ]
  },
  {
   "cell_type": "markdown",
   "id": "1a1e1a47",
   "metadata": {},
   "source": [
    "Answer:-  To create instances of a class, you call the class using class name and pass in whatever arguments\n",
    "          its __init__ method accepts."
   ]
  },
  {
   "cell_type": "markdown",
   "id": "5b14241c",
   "metadata": {},
   "source": [
    "Q7. What is the process for creating a class?\n"
   ]
  },
  {
   "cell_type": "markdown",
   "id": "b84bb86b",
   "metadata": {},
   "source": [
    "Answer:- You create a class by running a class statement; like function definitions, these statements normally run when the enclosing module file is imported"
   ]
  },
  {
   "cell_type": "markdown",
   "id": "d2306826",
   "metadata": {},
   "source": [
    "Q8. How would you define the superclasses of a class?"
   ]
  },
  {
   "cell_type": "markdown",
   "id": "ad551ba8",
   "metadata": {},
   "source": [
    "Answer:- You define a class’s superclasses by listing them in parentheses in the class statement,\n",
    "after the new class’s name. The left-to-right order in which the classes are\n",
    "listed in the parentheses gives the left-to-right inheritance search order in the class\n",
    "tree."
   ]
  },
  {
   "cell_type": "code",
   "execution_count": null,
   "id": "fb66f133",
   "metadata": {},
   "outputs": [],
   "source": []
  }
 ],
 "metadata": {
  "kernelspec": {
   "display_name": "Python 3 (ipykernel)",
   "language": "python",
   "name": "python3"
  },
  "language_info": {
   "codemirror_mode": {
    "name": "ipython",
    "version": 3
   },
   "file_extension": ".py",
   "mimetype": "text/x-python",
   "name": "python",
   "nbconvert_exporter": "python",
   "pygments_lexer": "ipython3",
   "version": "3.9.7"
  }
 },
 "nbformat": 4,
 "nbformat_minor": 5
}
