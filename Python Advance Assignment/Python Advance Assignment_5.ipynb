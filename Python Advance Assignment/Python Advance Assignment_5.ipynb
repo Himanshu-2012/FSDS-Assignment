{
 "cells": [
  {
   "cell_type": "markdown",
   "id": "24142d20",
   "metadata": {},
   "source": [
    "Q1. What is the meaning of multiple inheritance?\n"
   ]
  },
  {
   "cell_type": "markdown",
   "id": "e2ebc5c3",
   "metadata": {},
   "source": [
    "Answer:- Multiple inheritance occurs when a class inherits from more than one superclass;\n",
    "it’s useful for mixing together multiple packages of class-based code."
   ]
  },
  {
   "cell_type": "markdown",
   "id": "f9b749bc",
   "metadata": {},
   "source": [
    "Q2. What is the concept of delegation?\n"
   ]
  },
  {
   "cell_type": "markdown",
   "id": "15b55a2a",
   "metadata": {},
   "source": [
    "Answer:- Delegation involves wrapping an object in a proxy class, which adds extra behavior and passes other operations to the wrapped object. The proxy retains the interface of the wrapped object"
   ]
  },
  {
   "cell_type": "markdown",
   "id": "eab7b881",
   "metadata": {},
   "source": [
    "Q3. What is the concept of composition?\n"
   ]
  },
  {
   "cell_type": "markdown",
   "id": "af2cd77a",
   "metadata": {},
   "source": [
    "Composition is a technique whereby a controller class embeds and directs a number of objects, and provides an interface all its own; it’s a way to build up larger structures with classes."
   ]
  },
  {
   "cell_type": "markdown",
   "id": "50498e86",
   "metadata": {},
   "source": [
    "Q4. What are bound methods and how do we use them?\n"
   ]
  },
  {
   "cell_type": "markdown",
   "id": "e26e9372",
   "metadata": {},
   "source": [
    "Answer:- Bound methods combine an instance and a method function; you can call them without passing in an instance object explicitly because the original instance is still available."
   ]
  },
  {
   "cell_type": "markdown",
   "id": "02bddb51",
   "metadata": {},
   "source": [
    "Q5. What is the purpose of pseudoprivate attributes?"
   ]
  },
  {
   "cell_type": "markdown",
   "id": "7fb3a300",
   "metadata": {},
   "source": [
    "Answer:- Pseudoprivate attributes (whose names begin but do not end with two leading underscores: (__x) are used to localize names to the enclosing class. This includes both class attributes like methods defined inside the class, and self instance attributes assigned inside the class’s methods. Such names are expanded to include the class name, which makes them generally unique."
   ]
  },
  {
   "cell_type": "code",
   "execution_count": null,
   "id": "5d09ff8a",
   "metadata": {},
   "outputs": [],
   "source": []
  },
  {
   "cell_type": "code",
   "execution_count": null,
   "id": "960682b5",
   "metadata": {},
   "outputs": [],
   "source": []
  },
  {
   "cell_type": "code",
   "execution_count": null,
   "id": "9472101f",
   "metadata": {},
   "outputs": [],
   "source": []
  },
  {
   "cell_type": "code",
   "execution_count": null,
   "id": "710c91a1",
   "metadata": {},
   "outputs": [],
   "source": []
  }
 ],
 "metadata": {
  "kernelspec": {
   "display_name": "Python 3 (ipykernel)",
   "language": "python",
   "name": "python3"
  },
  "language_info": {
   "codemirror_mode": {
    "name": "ipython",
    "version": 3
   },
   "file_extension": ".py",
   "mimetype": "text/x-python",
   "name": "python",
   "nbconvert_exporter": "python",
   "pygments_lexer": "ipython3",
   "version": "3.9.7"
  }
 },
 "nbformat": 4,
 "nbformat_minor": 5
}
