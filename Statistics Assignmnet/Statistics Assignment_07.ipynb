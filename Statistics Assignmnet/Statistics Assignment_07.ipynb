{
 "cells": [
  {
   "cell_type": "markdown",
   "metadata": {},
   "source": [
    "1. A spam filter is designed by looking at commonly occurring phrases in spam. Suppose that\n",
    "80% of email is spam. In 10% of the spam emails, the phrase “free money” is used, whereas\n",
    "this phrase is only used in 1% of non-spam emails. A new email has just arrived, which does\n",
    "mention “free money”. What is the probability that it is spam?"
   ]
  },
  {
   "cell_type": "markdown",
   "metadata": {},
   "source": [
    "\n",
    "        \n",
    "Let's create some notations\n",
    "\n",
    "S - an email is a spam\n",
    "FM - 'free money' phrase is used\n",
    "N - an email is normal (not a spam)\n",
    "\n",
    "We are asked to find\n",
    "𝑃(𝑆|𝐹𝑀)\n",
    "Notice 𝑃(𝑆)+𝑃(𝑁)=1 and apply Baysian formula\n",
    "\n",
    "𝑃(𝑆|𝐹𝑀)=𝑃(𝐹𝑀|𝑆)/𝑃(𝑆)𝑃(𝐹𝑀|𝑆)𝑃(𝑆)+𝑃(𝐹𝑀|𝑁)𝑃(𝑁)\n",
    "where\n",
    "\n",
    "𝑃(𝐹𝑀|𝑆)=10%, 𝑃(𝐹𝑀|𝑁)=1%\n",
    "\n",
    "Plug all back to the conditional probability, I got\n",
    "\n",
    "𝑃(𝑆|𝐹𝑀)=40/41\n"
   ]
  }
 ],
 "metadata": {
  "kernelspec": {
   "display_name": "Python 3 (ipykernel)",
   "language": "python",
   "name": "python3"
  },
  "language_info": {
   "codemirror_mode": {
    "name": "ipython",
    "version": 3
   },
   "file_extension": ".py",
   "mimetype": "text/x-python",
   "name": "python",
   "nbconvert_exporter": "python",
   "pygments_lexer": "ipython3",
   "version": "3.9.7"
  }
 },
 "nbformat": 4,
 "nbformat_minor": 4
}
