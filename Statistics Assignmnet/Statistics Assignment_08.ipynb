{
 "cells": [
  {
   "cell_type": "markdown",
   "metadata": {},
   "source": [
    "1. A crime is committed by one of two suspects, A and B. Initially, there is equal evidence\n",
    "against both of them. In further investigation at the crime scene, it is found that the guilty\n",
    "party had a blood type found in 10% of the population. Suspect A does match this blood\n",
    "type, whereas the blood type of Suspect B is unknown. (a) Given this new information, what\n",
    "is the probability that A is the guilty party? (b) Given this new information, what is the\n",
    "probability that B’s blood type matches that found at the crime scene?"
   ]
  },
  {
   "cell_type": "markdown",
   "metadata": {},
   "source": [
    "\n",
    "Let the blood type found at crime seen be X.\n",
    "\n",
    "Probability that A is gulity prior to the new evidence 𝑃(𝐴)=1−𝑃(𝐵)=0.5 \n",
    "\n",
    "Probability that blood type of X is found given A is gulty = Probability that A has the blood type 𝑃(𝑋|𝐴)=1\n",
    "\n",
    "Probability that blood type of X is found given B is guilty = Probability that B has the blood type 𝑃(𝑋|𝐵)=0.1\n",
    "\n",
    "Now it is known that blood type is X, and given exactly one of A or B is guilty,\n",
    "\n",
    "𝑃(𝐴|𝑋)=𝑃(𝑋|𝐴)𝑃(𝐴)/𝑃(𝑋)\n",
    "=𝑃(𝑋|𝐴)𝑃(𝐴)/𝑃(𝑋|𝐴)𝑃(𝐴)+𝑃(𝑋|𝐵)𝑃(𝐵)=10/11\n"
   ]
  }
 ],
 "metadata": {
  "kernelspec": {
   "display_name": "Python 3 (ipykernel)",
   "language": "python",
   "name": "python3"
  },
  "language_info": {
   "codemirror_mode": {
    "name": "ipython",
    "version": 3
   },
   "file_extension": ".py",
   "mimetype": "text/x-python",
   "name": "python",
   "nbconvert_exporter": "python",
   "pygments_lexer": "ipython3",
   "version": "3.9.7"
  }
 },
 "nbformat": 4,
 "nbformat_minor": 4
}
