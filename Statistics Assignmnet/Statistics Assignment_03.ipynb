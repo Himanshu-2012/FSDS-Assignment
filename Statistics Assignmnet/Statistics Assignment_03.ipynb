{
 "cells": [
  {
   "cell_type": "markdown",
   "metadata": {},
   "source": [
    "1. For a group of 7 people, find the probability that all 4 seasons (winter, spring, summer, fall)\n",
    "occur at least once each among their birthdays, assuming that all seasons are equally likely.\n"
   ]
  },
  {
   "cell_type": "markdown",
   "metadata": {},
   "source": [
    "Answer:-\n",
    "    \n",
    "\n",
    "Given that seasons are equally likely and all 4 seasons (winter, spring, summer, fall) occur at least once each among their birthdays\n",
    "\n",
    "Total outcomes: Each person is allotted a season out of 4. Hence 48 possibilities\n",
    "\n",
    "Number of Outcomes that one or more season has no student having their birthday:\n",
    "\n",
    "Using Inclusion and Exclusion, 4C1*38 - 4C2*28 + 4C3*18  [i.e. Exclude 1 season - Exclude 2 season + exclude 3 season, also note that we can't exclude all the 4 seasons]\n",
    "\n",
    "Probability that one or more season has no student having their birthday:\n",
    "\n",
    "(4C1*38 - 4C2*28 + 4C3*18  ) / 48 = 0.377\n",
    "\n",
    "Required probability that all 4 seasons (winter, spring, summer, fall) occur at least once each among their birthdays:\n",
    "\n",
    "1-0.377=0.623\n",
    "\n",
    "= 4P(A1) 6P(A1 \\ A2)+4P(A1 \\ A2 \\ A3). We have P(A1) = (3/4)"
   ]
  },
  {
   "cell_type": "markdown",
   "metadata": {},
   "source": [
    "2. Alice attends a small college in which each class meets only once a week. She is deciding\n",
    "between 30 non-overlapping classes. There are 6 classes to choose from for each day of the\n",
    "week, Monday through Friday. Trusting in the benevolence of randomness, Alice decides to\n",
    "register for 7 randomly selected classes out of the 30, with all choices equally likely. What is\n",
    "the probability that she will have classes every day, Monday through Friday?"
   ]
  },
  {
   "cell_type": "markdown",
   "metadata": {},
   "source": [
    "Answer:-\n",
    "    \n",
    "    There are two general ways that Alice can have class every day: either she has 2 days with 2 classes and 3 days with 1 class, or she has 1 day with 3 classes, and has 1 class on each of the other 4 days. The number of possibilities for the former is:\n",
    "\n",
    "(52)(62)263(52)(62)263 (choose the 2 days when she has 2 classes, and then select 2 classes on those days and 1 class for the other days).\n",
    "\n",
    "The number of possibilities for the latter is:\n",
    "\n",
    "(51)(63)64(51)(63)64\n",
    "\n",
    "So the probability is: (52)(62)263+(51)(63)64(307)(52)(62)263+(51)(63)64(307) which is close to 30.2%"
   ]
  },
  {
   "cell_type": "code",
   "execution_count": null,
   "metadata": {},
   "outputs": [],
   "source": []
  }
 ],
 "metadata": {
  "kernelspec": {
   "display_name": "Python 3 (ipykernel)",
   "language": "python",
   "name": "python3"
  },
  "language_info": {
   "codemirror_mode": {
    "name": "ipython",
    "version": 3
   },
   "file_extension": ".py",
   "mimetype": "text/x-python",
   "name": "python",
   "nbconvert_exporter": "python",
   "pygments_lexer": "ipython3",
   "version": "3.9.7"
  }
 },
 "nbformat": 4,
 "nbformat_minor": 4
}
