{
 "cells": [
  {
   "cell_type": "markdown",
   "id": "97ecd24c",
   "metadata": {},
   "source": [
    "  1. In what modes should the PdfFileReader() and PdfFileWriter() File objects will be opened?"
   ]
  },
  {
   "cell_type": "markdown",
   "id": "534fd6d5",
   "metadata": {},
   "source": [
    "Answer:- Read-binary ('rb') for PdfFileReader() and write-binary ('wb') for\n",
    "         PdfFileWriter()"
   ]
  },
  {
   "cell_type": "markdown",
   "id": "422d5cf2",
   "metadata": {},
   "source": [
    "2. From a PdfFileReader object, how do you get a Page object for page 5?"
   ]
  },
  {
   "cell_type": "markdown",
   "id": "b85d0b56",
   "metadata": {},
   "source": [
    "Answer:-  getPage(4) will return a Page object for page 5, because page 0 is the first page"
   ]
  },
  {
   "cell_type": "markdown",
   "id": "0db12958",
   "metadata": {},
   "source": [
    "3. What PdfFileReader variable stores the number of pages in the PDF document?\n"
   ]
  },
  {
   "cell_type": "markdown",
   "id": "b9dd3f3b",
   "metadata": {},
   "source": [
    "Answer:- The numPages variable stores an integer of the number of pages in the\n",
    "         PdfFileReader object."
   ]
  },
  {
   "cell_type": "markdown",
   "id": "e91f6cd9",
   "metadata": {},
   "source": [
    "4. If a PdfFileReader object’s PDF is encrypted with the password swordfish, what must you do before you can obtain Page objects from it?"
   ]
  },
  {
   "cell_type": "markdown",
   "id": "b5362489",
   "metadata": {},
   "source": [
    "Answer:- Call decrypt('swordfish')."
   ]
  },
  {
   "cell_type": "markdown",
   "id": "ac31e4e0",
   "metadata": {},
   "source": [
    "5. What methods do you use to rotate a page?"
   ]
  },
  {
   "cell_type": "markdown",
   "id": "d9fe9ab6",
   "metadata": {},
   "source": [
    "Answer:- rotateClockwise() and rotateCounterClockwise() . The degrees to rotate is passed as an integer argument."
   ]
  },
  {
   "cell_type": "markdown",
   "id": "f3cff4c1",
   "metadata": {},
   "source": [
    "6. What is the difference between a Run object and a Paragraph object?"
   ]
  },
  {
   "cell_type": "markdown",
   "id": "d76be521",
   "metadata": {},
   "source": [
    "Answer:- A document contains multiple paragraphs. A paragraph begins on a new line and contains multiple runs. Runs are                  contiguous groups of characters within a paragraph."
   ]
  },
  {
   "cell_type": "markdown",
   "id": "896e070e",
   "metadata": {},
   "source": [
    "7. How do you obtain a list of Paragraph objects for a Document object that’s stored in a variable named doc?"
   ]
  },
  {
   "cell_type": "markdown",
   "id": "31a0dc2f",
   "metadata": {},
   "source": [
    "Answer:- doc.paragraphs"
   ]
  },
  {
   "cell_type": "markdown",
   "id": "bf72d93d",
   "metadata": {},
   "source": [
    "8. What type of object has bold, underline, italic, strike, and outline variables?"
   ]
  },
  {
   "cell_type": "markdown",
   "id": "29042542",
   "metadata": {},
   "source": [
    "Answer:- it type will be Run object"
   ]
  },
  {
   "cell_type": "markdown",
   "id": "8f4a3427",
   "metadata": {},
   "source": [
    "9. What is the difference between False, True, and None for the bold variable?\n"
   ]
  },
  {
   "cell_type": "markdown",
   "id": "a0f65cfd",
   "metadata": {},
   "source": [
    "Answer:- True always makes the Run object bolded \n",
    "         False makes it always not bolded, no matter what the style’s bold\n",
    "         None will make the Run object just use the style’s bold setting."
   ]
  },
  {
   "cell_type": "markdown",
   "id": "cafdb5f3",
   "metadata": {},
   "source": [
    "10. How do you create a Document object for a new Word document?"
   ]
  },
  {
   "cell_type": "markdown",
   "id": "26c93525",
   "metadata": {},
   "source": [
    "Answer:-  docx.Document() "
   ]
  },
  {
   "cell_type": "markdown",
   "id": "ce0f65a2",
   "metadata": {},
   "source": [
    "11. How do you add a paragraph with the text 'Hello, there!' to a Document object stored in a variable named doc?"
   ]
  },
  {
   "cell_type": "markdown",
   "id": "423685cd",
   "metadata": {},
   "source": [
    "Answer:- doc.add_paragraph('Hello there!')"
   ]
  },
  {
   "cell_type": "markdown",
   "id": "fff06658",
   "metadata": {},
   "source": [
    "12. What integers represent the levels of headings available in Word documents?\n"
   ]
  },
  {
   "cell_type": "markdown",
   "id": "f5675399",
   "metadata": {},
   "source": [
    "Answer:- 0, 1, 2, 3, and 4"
   ]
  },
  {
   "cell_type": "code",
   "execution_count": null,
   "id": "d268733c",
   "metadata": {},
   "outputs": [],
   "source": []
  },
  {
   "cell_type": "code",
   "execution_count": null,
   "id": "b95cf13d",
   "metadata": {},
   "outputs": [],
   "source": []
  },
  {
   "cell_type": "code",
   "execution_count": null,
   "id": "159f336b",
   "metadata": {},
   "outputs": [],
   "source": []
  },
  {
   "cell_type": "code",
   "execution_count": null,
   "id": "0ca167f6",
   "metadata": {},
   "outputs": [],
   "source": []
  },
  {
   "cell_type": "code",
   "execution_count": null,
   "id": "7d96bb33",
   "metadata": {},
   "outputs": [],
   "source": []
  },
  {
   "cell_type": "code",
   "execution_count": null,
   "id": "a0839720",
   "metadata": {},
   "outputs": [],
   "source": []
  }
 ],
 "metadata": {
  "kernelspec": {
   "display_name": "Python 3 (ipykernel)",
   "language": "python",
   "name": "python3"
  },
  "language_info": {
   "codemirror_mode": {
    "name": "ipython",
    "version": 3
   },
   "file_extension": ".py",
   "mimetype": "text/x-python",
   "name": "python",
   "nbconvert_exporter": "python",
   "pygments_lexer": "ipython3",
   "version": "3.9.7"
  }
 },
 "nbformat": 4,
 "nbformat_minor": 5
}
