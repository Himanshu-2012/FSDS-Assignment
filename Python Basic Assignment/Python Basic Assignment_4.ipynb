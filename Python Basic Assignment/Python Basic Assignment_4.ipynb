{
 "cells": [
  {
   "cell_type": "markdown",
   "id": "9bd3ad57",
   "metadata": {},
   "source": [
    "1. What exactly is []?"
   ]
  },
  {
   "cell_type": "markdown",
   "id": "fb8ccf79",
   "metadata": {},
   "source": [
    "Answer:- This represent the empty list."
   ]
  },
  {
   "cell_type": "markdown",
   "id": "457450f2",
   "metadata": {},
   "source": [
    "2. In a list of values stored in a variable called spam, how would you assign the value 'hello' as the third value? (Assume [2, 4, 6, 8, 10] are in spam.)\n"
   ]
  },
  {
   "cell_type": "markdown",
   "id": "eaf925c1",
   "metadata": {},
   "source": [
    "Answer:- spam[2]= \"hello\"    -------> because the index is start from 0 that is why we use spam[2] to add value at 3rd palace."
   ]
  },
  {
   "cell_type": "markdown",
   "id": "84718d0e",
   "metadata": {},
   "source": [
    "3. What is the value of spam[int(int('3' * 2) / 11)]?"
   ]
  },
  {
   "cell_type": "markdown",
   "id": "807bb285",
   "metadata": {},
   "source": [
    "Answer:- first 3 is string so it will become string '33' and after that int() convert the '33' into integar value after that\n",
    "         33 will devide by the 11 and it will return the 3 "
   ]
  },
  {
   "cell_type": "markdown",
   "id": "dc85ab31",
   "metadata": {},
   "source": [
    "Let's pretend the spam includes the list ['a', 'b', 'c', 'd'] for the next three queries'"
   ]
  },
  {
   "cell_type": "markdown",
   "id": "8ab788db",
   "metadata": {},
   "source": [
    "4. What is the value of spam[-1]?"
   ]
  },
  {
   "cell_type": "markdown",
   "id": "ffd48740",
   "metadata": {},
   "source": [
    "Answer:-  spam[-1] will return the last element from the list \n",
    "         (so that will return 'd')"
   ]
  },
  {
   "cell_type": "markdown",
   "id": "4c5b8740",
   "metadata": {},
   "source": [
    "5. What is the value of spam[:2]?"
   ]
  },
  {
   "cell_type": "markdown",
   "id": "27d06f43",
   "metadata": {},
   "source": [
    "Answer:- spam[:2] it will return the first two element from the list. \n",
    "         (so the answer is 'a','b')  "
   ]
  },
  {
   "cell_type": "markdown",
   "id": "315345a7",
   "metadata": {},
   "source": [
    "Let's pretend bacon has the list [3.14, 'cat,' 11, 'cat,' True] for the next three questions.\n"
   ]
  },
  {
   "cell_type": "markdown",
   "id": "dcfbf796",
   "metadata": {},
   "source": [
    "6. What is the value of bacon.index('cat')?"
   ]
  },
  {
   "cell_type": "markdown",
   "id": "e1a8015d",
   "metadata": {},
   "source": [
    "Answer:- it will retrun 1"
   ]
  },
  {
   "cell_type": "markdown",
   "id": "17edb21a",
   "metadata": {},
   "source": [
    "7. How does bacon.append(99) change the look of the list value in bacon?\n"
   ]
  },
  {
   "cell_type": "markdown",
   "id": "be50afaa",
   "metadata": {},
   "source": [
    "Answer:- it will add the 99 in end of list so list will [3.14,'cat,'11,'cat,'True,99] "
   ]
  },
  {
   "cell_type": "markdown",
   "id": "4f1a7c1e",
   "metadata": {},
   "source": [
    "8. How does bacon.remove('cat') change the look of the list in bacon?\n"
   ]
  },
  {
   "cell_type": "code",
   "execution_count": null,
   "id": "c13a8fb3",
   "metadata": {},
   "outputs": [],
   "source": [
    "Answer:- it will remove the first cat from the list the list will be return [3.14,11,'cat,'True]"
   ]
  },
  {
   "cell_type": "markdown",
   "id": "aa75c241",
   "metadata": {},
   "source": [
    "9. What are the list concatenation and list replication operators?\n"
   ]
  },
  {
   "cell_type": "markdown",
   "id": "73736eae",
   "metadata": {},
   "source": [
    "Answer:- list concatenation operator it will join the two differant list into one list(+).\n",
    "         Replication it will use for relicate the same list into new list(*)."
   ]
  },
  {
   "cell_type": "markdown",
   "id": "ab1b451b",
   "metadata": {},
   "source": [
    "10. What is difference between the list methods append() and insert()?\n"
   ]
  },
  {
   "cell_type": "markdown",
   "id": "cd65ed31",
   "metadata": {},
   "source": [
    "Answer:- append() it will add the element in the end of the list.\n",
    "         insert() it will add the element in anywhere of the list."
   ]
  },
  {
   "cell_type": "markdown",
   "id": "87899b77",
   "metadata": {},
   "source": [
    "11. What are the two methods for removing items from a list?"
   ]
  },
  {
   "cell_type": "markdown",
   "id": "1f351aaf",
   "metadata": {},
   "source": [
    "Answer:- The two methods for removing\n",
    "         ---> remove() and del "
   ]
  },
  {
   "cell_type": "markdown",
   "id": "ca90132f",
   "metadata": {},
   "source": [
    "12. Describe how list values and string values are identical.\n"
   ]
  },
  {
   "cell_type": "markdown",
   "id": "823dbeb5",
   "metadata": {},
   "source": [
    "Answer:- they both can use index, slices , they can be concatenated or replicated. "
   ]
  },
  {
   "cell_type": "markdown",
   "id": "3c88b4e9",
   "metadata": {},
   "source": [
    "13. What's the difference between tuples and lists?\n"
   ]
  },
  {
   "cell_type": "markdown",
   "id": "e50707af",
   "metadata": {},
   "source": [
    "Answer:- list is mutable you can change the values/element of the list. list is created by [].\n",
    "         Tuple is inmutable you can not change the values/elements of the tuple.Tuple is created by ()."
   ]
  },
  {
   "cell_type": "markdown",
   "id": "f953adcb",
   "metadata": {},
   "source": [
    "14. How do you type a tuple value that only contains the integer 42?\n"
   ]
  },
  {
   "cell_type": "markdown",
   "id": "59cbd097",
   "metadata": {},
   "source": [
    "Answer:- we have to use (,) if we are creating a tuple only with one value.\n",
    "         (42,)"
   ]
  },
  {
   "cell_type": "markdown",
   "id": "61cea841",
   "metadata": {},
   "source": [
    "15. How do you get a list value's tuple form? How do you get a tuple value's list form?\n"
   ]
  },
  {
   "cell_type": "markdown",
   "id": "d8cf4bc3",
   "metadata": {},
   "source": [
    "Answer:- for getting tuple values in list we can use function list().\n",
    "         for getting list values in tuple we can use function tuple()."
   ]
  },
  {
   "cell_type": "markdown",
   "id": "2ded8474",
   "metadata": {},
   "source": [
    "16. Variables that \"contain\" list values are not necessarily lists themselves. Instead, what do they contain?\n"
   ]
  },
  {
   "cell_type": "markdown",
   "id": "98069714",
   "metadata": {},
   "source": [
    "Answer:- They contain references to list values."
   ]
  },
  {
   "cell_type": "markdown",
   "id": "f9fa0cf5",
   "metadata": {},
   "source": [
    "17. How do you distinguish between copy.copy() and copy.deepcopy()?"
   ]
  },
  {
   "cell_type": "markdown",
   "id": "cd2e1eba",
   "metadata": {},
   "source": [
    "Answer:- copy.copy() will do a shallow copy of a list, while the copy.deepcopy() will do a deep copy of a list. That is, only copy.deepcopy() will duplicate any lists inside the list."
   ]
  }
 ],
 "metadata": {
  "kernelspec": {
   "display_name": "Python 3 (ipykernel)",
   "language": "python",
   "name": "python3"
  },
  "language_info": {
   "codemirror_mode": {
    "name": "ipython",
    "version": 3
   },
   "file_extension": ".py",
   "mimetype": "text/x-python",
   "name": "python",
   "nbconvert_exporter": "python",
   "pygments_lexer": "ipython3",
   "version": "3.9.7"
  }
 },
 "nbformat": 4,
 "nbformat_minor": 5
}
