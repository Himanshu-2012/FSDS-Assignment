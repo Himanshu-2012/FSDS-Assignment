{
 "cells": [
  {
   "cell_type": "markdown",
   "id": "65730db3",
   "metadata": {},
   "source": [
    "1. In the below elements which of them are values or an expression? eg:- values can be integer or string and expressions will be mathematical operators."
   ]
  },
  {
   "cell_type": "markdown",
   "id": "8bbeefc8",
   "metadata": {},
   "source": [
    "Answer:-     *       ------> expressions \n",
    "            'hello'  ------> values\n",
    "            -87.8    ------> values\n",
    "            -        ------> expressions\n",
    "            /        ------> expressions\n",
    "            +        ------> expressions\n",
    "            6        ------> values \n",
    " "
   ]
  },
  {
   "cell_type": "markdown",
   "id": "e8facb97",
   "metadata": {},
   "source": []
  },
  {
   "cell_type": "markdown",
   "id": "d5992697",
   "metadata": {},
   "source": [
    "2. What is the difference between string and variable?"
   ]
  },
  {
   "cell_type": "markdown",
   "id": "c8bce0e1",
   "metadata": {},
   "source": [
    "Answer:- String :- it is the text which is written in quotes eg --- \"hello\"\n",
    "\n",
    "         variable :- it is the thing which can store data in a container \n",
    "         eg- (a = 20) ---- a is the variable in which store the int value of 20"
   ]
  },
  {
   "cell_type": "markdown",
   "id": "4ad0f32e",
   "metadata": {},
   "source": []
  },
  {
   "cell_type": "markdown",
   "id": "05378ff0",
   "metadata": {},
   "source": [
    " 3. Describe three different data types."
   ]
  },
  {
   "cell_type": "markdown",
   "id": "cfd078c5",
   "metadata": {},
   "source": [
    "Answer:-  Integer:- it is the numarical number (eg:- 365)\n",
    "        Float:-   it is the number which have floting values (eg:- 365.0 or 58.44)\n",
    "        String:-  it is the collection of character which is written in the single or double quotaton (eg:- \"Hello\", 'my name')\n",
    "       "
   ]
  },
  {
   "cell_type": "markdown",
   "id": "e59b1fa8",
   "metadata": {},
   "source": [
    "4. What is an expression made up of? What do all expressions do?"
   ]
  },
  {
   "cell_type": "markdown",
   "id": "f39d3886",
   "metadata": {},
   "source": [
    "Answer:-  Expression is made up of values, containers, and mathematical operators \n",
    "          if you print an expression the interpreter evaluates the expression and display the result.\n",
    "          eg:- a = 25 + 35 it will evaluate this and will print the sum of 25 and 35.\n",
    "      "
   ]
  },
  {
   "cell_type": "markdown",
   "id": "816563bc",
   "metadata": {},
   "source": [
    "5. This assignment statements, like spam = 10. What is the difference between an expression and a statement?"
   ]
  },
  {
   "cell_type": "markdown",
   "id": "ea95fdaf",
   "metadata": {},
   "source": [
    "Answer:- Expression is made up of values, containers, and mathematical operators\n",
    "         statement is just like a command that a interpreter executes like print."
   ]
  },
  {
   "cell_type": "markdown",
   "id": "80f936d4",
   "metadata": {},
   "source": [
    "6. After running the following code, what does the variable bacon contain?\n",
    "bacon = 22\n",
    "bacon + 1\n"
   ]
  },
  {
   "cell_type": "markdown",
   "id": "abddfd3b",
   "metadata": {},
   "source": [
    "Answer:- It will return 23 after exceute this code bacon is contain 22 and because of + operator it will add the 1 in 22."
   ]
  },
  {
   "cell_type": "code",
   "execution_count": 2,
   "id": "c3b24118",
   "metadata": {},
   "outputs": [
    {
     "data": {
      "text/plain": [
       "23"
      ]
     },
     "execution_count": 2,
     "metadata": {},
     "output_type": "execute_result"
    }
   ],
   "source": [
    "bacon = 22      # running code \n",
    "\n",
    "bacon+1"
   ]
  },
  {
   "cell_type": "markdown",
   "id": "38bccca2",
   "metadata": {},
   "source": [
    "7. What should the values of the following two terms be?\n",
    "'spam' + 'spamspam'\n",
    "'spam' * 3\n"
   ]
  },
  {
   "cell_type": "code",
   "execution_count": null,
   "id": "49bfaef9",
   "metadata": {},
   "outputs": [],
   "source": [
    "Answer:-  They both are same eg:- \"spam\" + \"spamspam\" -----> 'spamspamspam'\n",
    "                        \"spam\"*3 ------> 'spamspamspam'"
   ]
  },
  {
   "cell_type": "code",
   "execution_count": 3,
   "id": "39220b90",
   "metadata": {},
   "outputs": [
    {
     "data": {
      "text/plain": [
       "'spamspamspam'"
      ]
     },
     "execution_count": 3,
     "metadata": {},
     "output_type": "execute_result"
    }
   ],
   "source": [
    "\"spam\" + \"spamspam\"    # running code"
   ]
  },
  {
   "cell_type": "code",
   "execution_count": 4,
   "id": "cedb2c3a",
   "metadata": {},
   "outputs": [
    {
     "data": {
      "text/plain": [
       "'spamspamspam'"
      ]
     },
     "execution_count": 4,
     "metadata": {},
     "output_type": "execute_result"
    }
   ],
   "source": [
    "\"spam\"*3               # running code"
   ]
  },
  {
   "cell_type": "markdown",
   "id": "b02fa511",
   "metadata": {},
   "source": [
    "8. Why is eggs a valid variable name while 100 is invalid?\n"
   ]
  },
  {
   "cell_type": "code",
   "execution_count": null,
   "id": "4545f986",
   "metadata": {},
   "outputs": [],
   "source": [
    "Answer:- The variable name only can start from letter or underscore(_) that is why eggs is valid and 100 in invalid."
   ]
  },
  {
   "cell_type": "markdown",
   "id": "53e745bb",
   "metadata": {},
   "source": [
    "9. What three functions can be used to get the integer, floating-point number, or string version of a value?"
   ]
  },
  {
   "cell_type": "markdown",
   "id": "33cf593b",
   "metadata": {},
   "source": [
    "Answer:- We can use type casting for this str(), int(), float()"
   ]
  },
  {
   "cell_type": "markdown",
   "id": "006dad43",
   "metadata": {},
   "source": [
    "10. Why does this expression cause an error? How can you fix it?\n",
    "'I have eaten ' + 99 + ' burritos.'"
   ]
  },
  {
   "cell_type": "markdown",
   "id": "4db0e153",
   "metadata": {},
   "source": [
    "Answer:- 99 is the integar value in python we can not concatenated the string with integar we have to put 99 in single or double quotation\n",
    "    (eg- 'I have eaten ' + '99' + ' burritos.')"
   ]
  },
  {
   "cell_type": "code",
   "execution_count": 6,
   "id": "e6f83dbb",
   "metadata": {},
   "outputs": [
    {
     "data": {
      "text/plain": [
       "'I have eaten 99 burritos.'"
      ]
     },
     "execution_count": 6,
     "metadata": {},
     "output_type": "execute_result"
    }
   ],
   "source": [
    "'I have eaten ' + '99' + ' burritos.'    # running code"
   ]
  }
 ],
 "metadata": {
  "kernelspec": {
   "display_name": "Python 3 (ipykernel)",
   "language": "python",
   "name": "python3"
  },
  "language_info": {
   "codemirror_mode": {
    "name": "ipython",
    "version": 3
   },
   "file_extension": ".py",
   "mimetype": "text/x-python",
   "name": "python",
   "nbconvert_exporter": "python",
   "pygments_lexer": "ipython3",
   "version": "3.9.7"
  }
 },
 "nbformat": 4,
 "nbformat_minor": 5
}
