{
 "cells": [
  {
   "cell_type": "markdown",
   "id": "4e5b31c3",
   "metadata": {},
   "source": [
    "1. Why are functions advantageous to have in your programs?\n"
   ]
  },
  {
   "cell_type": "markdown",
   "id": "e0200631",
   "metadata": {},
   "source": [
    "Answer:- functions reduce the duplicate code it can be used multiple time in single program, you can write program code short and easy to read."
   ]
  },
  {
   "cell_type": "markdown",
   "id": "d48fafb1",
   "metadata": {},
   "source": [
    "2. When does the code in a function run: when it's specified or when it's called?"
   ]
  },
  {
   "cell_type": "markdown",
   "id": "9f0d11c6",
   "metadata": {},
   "source": [
    "Answer:- function will run only when you called, can not when specified."
   ]
  },
  {
   "cell_type": "markdown",
   "id": "5f57efdd",
   "metadata": {},
   "source": [
    "3. What statement creates a function?\n"
   ]
  },
  {
   "cell_type": "markdown",
   "id": "f4729e04",
   "metadata": {},
   "source": [
    "Answer:- you have to use def statement to create Function."
   ]
  },
  {
   "cell_type": "markdown",
   "id": "fd79684c",
   "metadata": {},
   "source": [
    "4. What is the difference between a function and a function call?\n"
   ]
  },
  {
   "cell_type": "markdown",
   "id": "1b2b9d11",
   "metadata": {},
   "source": [
    "Answer:- Function is defines as def clause you  have to code in def clause\n",
    "         when function is used in program by its name and return the value after execution of program."
   ]
  },
  {
   "cell_type": "markdown",
   "id": "5bba5fb3",
   "metadata": {},
   "source": [
    "5. How many global scopes are there in a Python program? How many local scopes?\n"
   ]
  },
  {
   "cell_type": "markdown",
   "id": "54bdcb4e",
   "metadata": {},
   "source": [
    "Answer:- There is one global scope, and a local scope is created whenever a function is called."
   ]
  },
  {
   "cell_type": "markdown",
   "id": "b23e2b47",
   "metadata": {},
   "source": [
    "6. What happens to variables in a local scope when the function call returns?\n"
   ]
  },
  {
   "cell_type": "markdown",
   "id": "a8469664",
   "metadata": {},
   "source": [
    "Answer:- When a function returns, the local scope is destroyed, and all the variables in it are forgotten."
   ]
  },
  {
   "cell_type": "markdown",
   "id": "559c50aa",
   "metadata": {},
   "source": [
    "7. What is the concept of a return value? Is it possible to have a return value in an expression?\n"
   ]
  },
  {
   "cell_type": "markdown",
   "id": "70be76ba",
   "metadata": {},
   "source": [
    "Answer:- A return value is the value that a function call evaluates to. \n",
    "         Like any value, a return value can be used as part of an expression."
   ]
  },
  {
   "cell_type": "markdown",
   "id": "78c78bf1",
   "metadata": {},
   "source": [
    "8. If a function does not have a return statement, what is the return value of a call to that function?\n"
   ]
  },
  {
   "cell_type": "markdown",
   "id": "e78c57b9",
   "metadata": {},
   "source": [
    "Answer:- if there is no return statement in function than it will return None"
   ]
  },
  {
   "cell_type": "markdown",
   "id": "576a10ba",
   "metadata": {},
   "source": [
    "9. How do you make a function variable refer to the global variable?\n"
   ]
  },
  {
   "cell_type": "markdown",
   "id": "57ca121c",
   "metadata": {},
   "source": [
    "Answer:- A global statement will force a variable in a function to refer to the global variable."
   ]
  },
  {
   "cell_type": "markdown",
   "id": "d4fb1a10",
   "metadata": {},
   "source": [
    "10. What is the data type of None?\n"
   ]
  },
  {
   "cell_type": "markdown",
   "id": "a0313136",
   "metadata": {},
   "source": [
    "Answer:- The type of None is Nonetype"
   ]
  },
  {
   "cell_type": "markdown",
   "id": "00dec90b",
   "metadata": {},
   "source": [
    "11. What does the sentence import areallyourpetsnamederic do?\n"
   ]
  },
  {
   "cell_type": "markdown",
   "id": "c382d81f",
   "metadata": {},
   "source": [
    "Answer:- The import areallyourpetsnamederic will import the module names areallyourpetsnamederic"
   ]
  },
  {
   "cell_type": "markdown",
   "id": "4c635a0a",
   "metadata": {},
   "source": [
    "12. If you had a bacon() feature in a spam module, what would you call it after importing spam?\n"
   ]
  },
  {
   "cell_type": "markdown",
   "id": "bd4b8172",
   "metadata": {},
   "source": [
    "Answer:- function can be called with spam.bacon()"
   ]
  },
  {
   "cell_type": "markdown",
   "id": "c18d1aff",
   "metadata": {},
   "source": [
    "13. What can you do to save a programme from crashing if it encounters an error?\n"
   ]
  },
  {
   "cell_type": "markdown",
   "id": "ff54001c",
   "metadata": {},
   "source": [
    "Answer:- we can use try clause to stop program from crashing"
   ]
  },
  {
   "cell_type": "markdown",
   "id": "036f5588",
   "metadata": {},
   "source": [
    "14. What is the purpose of the try clause? What is the purpose of the except clause?\n"
   ]
  },
  {
   "cell_type": "markdown",
   "id": "adfd4159",
   "metadata": {},
   "source": [
    "Answer:- Try clause use for stop the progrma from crashing.\n",
    "         Except clause if code is giving error than it will goes to except clause."
   ]
  },
  {
   "cell_type": "code",
   "execution_count": null,
   "id": "560d9b2f",
   "metadata": {},
   "outputs": [],
   "source": []
  }
 ],
 "metadata": {
  "kernelspec": {
   "display_name": "Python 3 (ipykernel)",
   "language": "python",
   "name": "python3"
  },
  "language_info": {
   "codemirror_mode": {
    "name": "ipython",
    "version": 3
   },
   "file_extension": ".py",
   "mimetype": "text/x-python",
   "name": "python",
   "nbconvert_exporter": "python",
   "pygments_lexer": "ipython3",
   "version": "3.9.7"
  }
 },
 "nbformat": 4,
 "nbformat_minor": 5
}
