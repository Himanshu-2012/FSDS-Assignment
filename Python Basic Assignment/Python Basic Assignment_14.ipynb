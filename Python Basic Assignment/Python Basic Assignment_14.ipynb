{
 "cells": [
  {
   "cell_type": "markdown",
   "id": "c577ef71",
   "metadata": {},
   "source": [
    "1. What does RGBA stand for?\n"
   ]
  },
  {
   "cell_type": "markdown",
   "id": "0df92528",
   "metadata": {},
   "source": [
    "Answer:- RGBA value is a tuple of 4 integers, each ranging from 0 to 255. The four integers correspond to the amount of red, green, blue, and alpha."
   ]
  },
  {
   "cell_type": "markdown",
   "id": "8639d8f9",
   "metadata": {},
   "source": [
    "2. From the Pillow module, how do you get the RGBA value of any images?\n"
   ]
  },
  {
   "cell_type": "markdown",
   "id": "edc7ef52",
   "metadata": {},
   "source": [
    "Answer:- ImageColor.getcolor('image.png') will return  RGBA value for that color"
   ]
  },
  {
   "cell_type": "markdown",
   "id": "3de2e7cd",
   "metadata": {},
   "source": [
    "3. What is a box tuple, and how does it work?"
   ]
  },
  {
   "cell_type": "markdown",
   "id": "4739eca3",
   "metadata": {},
   "source": [
    "Answer:- it is a tuple value of four integers: the left-edge x-coordinate, the top-edge y-coordinate, the width, and the height."
   ]
  },
  {
   "cell_type": "markdown",
   "id": "a6037c56",
   "metadata": {},
   "source": [
    "4. Use your image and load in notebook then, How can you find out the width and height of an Image object?\n"
   ]
  },
  {
   "cell_type": "markdown",
   "id": "7d87ecc4",
   "metadata": {},
   "source": []
  },
  {
   "cell_type": "code",
   "execution_count": 7,
   "id": "109ca426",
   "metadata": {},
   "outputs": [
    {
     "data": {
      "text/plain": [
       "(205, 246)"
      ]
     },
     "execution_count": 7,
     "metadata": {},
     "output_type": "execute_result"
    }
   ],
   "source": [
    "from PIL import Image\n",
    "img = Image.open(\"linux.jpg\")\n",
    "img.size"
   ]
  },
  {
   "cell_type": "markdown",
   "id": "0c78a4f0",
   "metadata": {},
   "source": []
  },
  {
   "cell_type": "markdown",
   "id": "cdeb0ef4",
   "metadata": {},
   "source": [
    "5. What method would you call to get Image object for a 100×100 image, excluding the lower-left quarter of it?"
   ]
  },
  {
   "cell_type": "markdown",
   "id": "82b3f6d0",
   "metadata": {},
   "source": [
    "Answer:- imageObj.crop((0, 50, 50, 50))."
   ]
  },
  {
   "cell_type": "markdown",
   "id": "049dc948",
   "metadata": {},
   "source": [
    "6. After making changes to an Image object, how could you save it as an image file?"
   ]
  },
  {
   "cell_type": "markdown",
   "id": "6069f366",
   "metadata": {},
   "source": [
    "Answer:- imageObj.save('image_name.png')"
   ]
  },
  {
   "cell_type": "markdown",
   "id": "c9a8f0f6",
   "metadata": {},
   "source": [
    "7. What module contains Pillow’s shape-drawing code?"
   ]
  },
  {
   "cell_type": "markdown",
   "id": "2fbfec6a",
   "metadata": {},
   "source": [
    "Answer:- ImageDraw module contains code to draw."
   ]
  },
  {
   "cell_type": "markdown",
   "id": "cc573e7f",
   "metadata": {},
   "source": [
    "8. Image objects do not have drawing methods. What kind of object does? How do you get this kind of object?"
   ]
  },
  {
   "cell_type": "markdown",
   "id": "5fef7c47",
   "metadata": {},
   "source": [
    "Answer:- ImageDraw objects have shape-drawing methods such as point(), line(), rectangle(). They are returned by passing the              Image object to the ImageDraw.Draw() function."
   ]
  },
  {
   "cell_type": "code",
   "execution_count": null,
   "id": "7b6f0777",
   "metadata": {},
   "outputs": [],
   "source": []
  },
  {
   "cell_type": "code",
   "execution_count": null,
   "id": "f8c4346a",
   "metadata": {},
   "outputs": [],
   "source": []
  }
 ],
 "metadata": {
  "kernelspec": {
   "display_name": "Python 3 (ipykernel)",
   "language": "python",
   "name": "python3"
  },
  "language_info": {
   "codemirror_mode": {
    "name": "ipython",
    "version": 3
   },
   "file_extension": ".py",
   "mimetype": "text/x-python",
   "name": "python",
   "nbconvert_exporter": "python",
   "pygments_lexer": "ipython3",
   "version": "3.9.7"
  }
 },
 "nbformat": 4,
 "nbformat_minor": 5
}
