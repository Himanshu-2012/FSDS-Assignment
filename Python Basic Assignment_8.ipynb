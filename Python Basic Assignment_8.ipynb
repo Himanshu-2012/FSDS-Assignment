{
 "cells": [
  {
   "cell_type": "markdown",
   "id": "905f198e",
   "metadata": {},
   "source": [
    "1. Is the Python Standard Library included with PyInputPlus?"
   ]
  },
  {
   "cell_type": "markdown",
   "id": "fb672a65",
   "metadata": {},
   "source": [
    "Answer:- PyinputPlus is not a part of standard library. you have to install using pip"
   ]
  },
  {
   "cell_type": "markdown",
   "id": "6cea35fe",
   "metadata": {},
   "source": [
    "2. Why is PyInputPlus commonly imported with import pyinputplus as pypi?"
   ]
  },
  {
   "cell_type": "markdown",
   "id": "ae7011f5",
   "metadata": {},
   "source": [
    "Answer:- the pypi save us to typing pyinputplus everytime we want to call pyinputplus function.."
   ]
  },
  {
   "cell_type": "markdown",
   "id": "a57caf93",
   "metadata": {},
   "source": [
    "3. How do you distinguish between inputInt() and inputFloat()?"
   ]
  },
  {
   "cell_type": "markdown",
   "id": "a085f8a7",
   "metadata": {},
   "source": [
    "Answer:- inputint() wil return the integar values.\n",
    "         inputfloat() will return the floating point values."
   ]
  },
  {
   "cell_type": "markdown",
   "id": "c21c7653",
   "metadata": {},
   "source": [
    "4. Using PyInputPlus, how do you ensure that the user enters a whole number between 0 and 99?"
   ]
  },
  {
   "cell_type": "markdown",
   "id": "00f358f3",
   "metadata": {},
   "source": [
    "Answer:- we have to use pyip.inputint(min=0, max=99)."
   ]
  },
  {
   "cell_type": "markdown",
   "id": "bfb382ec",
   "metadata": {},
   "source": [
    "5. What is transferred to the keyword arguments allowRegexes and blockRegexes?"
   ]
  },
  {
   "cell_type": "markdown",
   "id": "4792410e",
   "metadata": {},
   "source": [
    "Answer:- list of regex strings that are either allowed or denied"
   ]
  },
  {
   "cell_type": "markdown",
   "id": "0fe587cb",
   "metadata": {},
   "source": [
    "6. If a blank input is entered three times, what does inputStr(limit=3) do?"
   ]
  },
  {
   "cell_type": "markdown",
   "id": "1e5fe7f5",
   "metadata": {},
   "source": [
    "Answer:- it will return  RetryLimitException"
   ]
  },
  {
   "cell_type": "markdown",
   "id": "0e94e5f6",
   "metadata": {},
   "source": [
    "7. If blank input is entered three times, what does inputStr(limit=3, default='hello') do?"
   ]
  },
  {
   "cell_type": "markdown",
   "id": "c058d684",
   "metadata": {},
   "source": [
    "Answer:- it will retrun 'hello' after three blank input"
   ]
  },
  {
   "cell_type": "code",
   "execution_count": null,
   "id": "17c54455",
   "metadata": {},
   "outputs": [],
   "source": []
  }
 ],
 "metadata": {
  "kernelspec": {
   "display_name": "Python 3 (ipykernel)",
   "language": "python",
   "name": "python3"
  },
  "language_info": {
   "codemirror_mode": {
    "name": "ipython",
    "version": 3
   },
   "file_extension": ".py",
   "mimetype": "text/x-python",
   "name": "python",
   "nbconvert_exporter": "python",
   "pygments_lexer": "ipython3",
   "version": "3.9.7"
  }
 },
 "nbformat": 4,
 "nbformat_minor": 5
}
